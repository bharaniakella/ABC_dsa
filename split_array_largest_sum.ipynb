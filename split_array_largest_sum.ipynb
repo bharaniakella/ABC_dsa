{
  "nbformat": 4,
  "nbformat_minor": 0,
  "metadata": {
    "colab": {
      "provenance": [],
      "authorship_tag": "ABX9TyMwnv7d+uO3IKiz/PVcJ6aC",
      "include_colab_link": true
    },
    "kernelspec": {
      "name": "python3",
      "display_name": "Python 3"
    },
    "language_info": {
      "name": "python"
    }
  },
  "cells": [
    {
      "cell_type": "markdown",
      "metadata": {
        "id": "view-in-github",
        "colab_type": "text"
      },
      "source": [
        "<a href=\"https://colab.research.google.com/github/bharaniakella/ABC_dsa/blob/main/split_array_largest_sum.ipynb\" target=\"_parent\"><img src=\"https://colab.research.google.com/assets/colab-badge.svg\" alt=\"Open In Colab\"/></a>"
      ]
    },
    {
      "cell_type": "code",
      "execution_count": null,
      "metadata": {
        "id": "C2H_E0yQs69J"
      },
      "outputs": [],
      "source": [
        "class Solution:\n",
        "    def splitArray(self, nums: List[int], k: int) -> int:\n",
        "        if(k>len(nums)):\n",
        "            return -1\n",
        "\n",
        "        def findsplit(nums,maxsum):\n",
        "            split=1\n",
        "            currsum=0\n",
        "            for i in range(len(nums)):\n",
        "                if((currsum+nums[i])<=maxsum):\n",
        "                    currsum=currsum+nums[i]\n",
        "                else:\n",
        "                    split=split+1\n",
        "                    currsum=nums[i]\n",
        "\n",
        "            return split\n",
        "\n",
        "        low=max(nums)\n",
        "        sum=0\n",
        "        for i in range(len(nums)):\n",
        "            sum=sum+nums[i]\n",
        "\n",
        "        high=sum\n",
        "        ans=0\n",
        "\n",
        "\n",
        "        while(low<=high):\n",
        "            mid=low+(high-low)//2\n",
        "            if(findsplit(nums,mid)>k):\n",
        "                low=mid+1\n",
        "            else:\n",
        "                ans=mid\n",
        "                high=mid-1\n",
        "\n",
        "        return ans"
      ]
    }
  ]
}