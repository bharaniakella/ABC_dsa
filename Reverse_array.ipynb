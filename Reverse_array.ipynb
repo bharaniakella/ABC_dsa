{
  "nbformat": 4,
  "nbformat_minor": 0,
  "metadata": {
    "colab": {
      "provenance": [],
      "authorship_tag": "ABX9TyN4SHijclr+BT8NGrOAbL32",
      "include_colab_link": true
    },
    "kernelspec": {
      "name": "python3",
      "display_name": "Python 3"
    },
    "language_info": {
      "name": "python"
    }
  },
  "cells": [
    {
      "cell_type": "markdown",
      "metadata": {
        "id": "view-in-github",
        "colab_type": "text"
      },
      "source": [
        "<a href=\"https://colab.research.google.com/github/bharaniakella/ABC_dsa/blob/main/Reverse_array.ipynb\" target=\"_parent\"><img src=\"https://colab.research.google.com/assets/colab-badge.svg\" alt=\"Open In Colab\"/></a>"
      ]
    },
    {
      "cell_type": "code",
      "execution_count": 1,
      "metadata": {
        "id": "fVHEZ1pHeFjJ"
      },
      "outputs": [],
      "source": [
        "import numpy as np\n",
        "arr=np.array([10,20,30,40,50])"
      ]
    },
    {
      "cell_type": "code",
      "source": [
        "def rev_arr(arr):\n",
        "  low=0\n",
        "  high=len(arr)-1\n",
        "  while(low<=high):\n",
        "    temp=arr[low]\n",
        "    arr[low]=arr[high]\n",
        "    arr[high]=temp\n",
        "    low=low+1\n",
        "    high=high-1\n",
        "  return arr"
      ],
      "metadata": {
        "id": "8FZOKuMzeQ1w"
      },
      "execution_count": 2,
      "outputs": []
    },
    {
      "cell_type": "code",
      "source": [
        "rev_arr(arr)"
      ],
      "metadata": {
        "colab": {
          "base_uri": "https://localhost:8080/"
        },
        "id": "GMYdtvkIe_rP",
        "outputId": "751b3517-3610-4480-a3c6-3c08a0ce93fd"
      },
      "execution_count": 3,
      "outputs": [
        {
          "output_type": "execute_result",
          "data": {
            "text/plain": [
              "array([50, 40, 30, 20, 10])"
            ]
          },
          "metadata": {},
          "execution_count": 3
        }
      ]
    },
    {
      "cell_type": "code",
      "source": [],
      "metadata": {
        "id": "4w7C8-S0fCMp"
      },
      "execution_count": null,
      "outputs": []
    }
  ]
}