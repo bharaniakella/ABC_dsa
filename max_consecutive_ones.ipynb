{
  "nbformat": 4,
  "nbformat_minor": 0,
  "metadata": {
    "colab": {
      "provenance": [],
      "authorship_tag": "ABX9TyNRwrQcwaqmFH8k528Gt25f",
      "include_colab_link": true
    },
    "kernelspec": {
      "name": "python3",
      "display_name": "Python 3"
    },
    "language_info": {
      "name": "python"
    }
  },
  "cells": [
    {
      "cell_type": "markdown",
      "metadata": {
        "id": "view-in-github",
        "colab_type": "text"
      },
      "source": [
        "<a href=\"https://colab.research.google.com/github/bharaniakella/ABC_dsa/blob/main/max_consecutive_ones.ipynb\" target=\"_parent\"><img src=\"https://colab.research.google.com/assets/colab-badge.svg\" alt=\"Open In Colab\"/></a>"
      ]
    },
    {
      "cell_type": "code",
      "execution_count": null,
      "metadata": {
        "id": "_J_8D1znq25b"
      },
      "outputs": [],
      "source": [
        "class Solution:\n",
        "    def findMaxConsecutiveOnes(self, nums: List[int]) -> int:\n",
        "        count_one=0\n",
        "        max_ones=0\n",
        "        for i in range(len(nums)):\n",
        "            if(nums[i]==1):\n",
        "                count_one=count_one+1\n",
        "                max_ones=max(max_ones,count_one)\n",
        "            else:\n",
        "                count_one=0\n",
        "        return max_ones\n",
        "\n",
        ""
      ]
    }
  ]
}