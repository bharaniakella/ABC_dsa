{
  "nbformat": 4,
  "nbformat_minor": 0,
  "metadata": {
    "colab": {
      "provenance": [],
      "authorship_tag": "ABX9TyMO7ly+pc+3k2gljsH/vdGC",
      "include_colab_link": true
    },
    "kernelspec": {
      "name": "python3",
      "display_name": "Python 3"
    },
    "language_info": {
      "name": "python"
    }
  },
  "cells": [
    {
      "cell_type": "markdown",
      "metadata": {
        "id": "view-in-github",
        "colab_type": "text"
      },
      "source": [
        "<a href=\"https://colab.research.google.com/github/bharaniakella/ABC_dsa/blob/main/Iterative_preorder_traversal.ipynb\" target=\"_parent\"><img src=\"https://colab.research.google.com/assets/colab-badge.svg\" alt=\"Open In Colab\"/></a>"
      ]
    },
    {
      "cell_type": "code",
      "execution_count": null,
      "metadata": {
        "id": "hyiNdKwhTX5g"
      },
      "outputs": [],
      "source": [
        "class Solution:\n",
        "    def preorderTraversal(self, root: Optional[TreeNode]) -> List[int]:\n",
        "        preorder=[]\n",
        "        stack=[]\n",
        "        if(root is None):\n",
        "            return\n",
        "\n",
        "        stack.append(root)\n",
        "        while(len(stack)!=0):\n",
        "            temp=stack.pop()\n",
        "            preorder.append(temp.val)\n",
        "            if(temp.right):\n",
        "                stack.append(temp.right)\n",
        "            if(temp.left):\n",
        "                stack.append(temp.left)\n",
        "\n",
        "        return preorder\n",
        "\n",
        "\n"
      ]
    }
  ]
}