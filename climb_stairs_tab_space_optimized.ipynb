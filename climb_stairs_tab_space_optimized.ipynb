{
  "nbformat": 4,
  "nbformat_minor": 0,
  "metadata": {
    "colab": {
      "provenance": [],
      "authorship_tag": "ABX9TyPDoXdftPkJFP1FHRM0EWSP",
      "include_colab_link": true
    },
    "kernelspec": {
      "name": "python3",
      "display_name": "Python 3"
    },
    "language_info": {
      "name": "python"
    }
  },
  "cells": [
    {
      "cell_type": "markdown",
      "metadata": {
        "id": "view-in-github",
        "colab_type": "text"
      },
      "source": [
        "<a href=\"https://colab.research.google.com/github/bharaniakella/ABC_dsa/blob/main/climb_stairs_tab_space_optimized.ipynb\" target=\"_parent\"><img src=\"https://colab.research.google.com/assets/colab-badge.svg\" alt=\"Open In Colab\"/></a>"
      ]
    },
    {
      "cell_type": "code",
      "execution_count": null,
      "metadata": {
        "id": "0lJ3vfVI5HbQ"
      },
      "outputs": [],
      "source": [
        "class Solution:\n",
        "    def climbStairs(self, n: int) -> int:\n",
        "        prev=1\n",
        "        curr=2\n",
        "        counter=2\n",
        "        if(n==1 or n==2):\n",
        "            return n\n",
        "\n",
        "        else:\n",
        "            while counter<n:\n",
        "                next=curr+prev\n",
        "                prev=curr\n",
        "                curr=next\n",
        "                counter=counter+1\n",
        "\n",
        "        return next\n",
        ""
      ]
    }
  ]
}