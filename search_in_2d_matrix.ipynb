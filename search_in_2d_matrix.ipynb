{
  "nbformat": 4,
  "nbformat_minor": 0,
  "metadata": {
    "colab": {
      "provenance": [],
      "authorship_tag": "ABX9TyNsJLAxqwIYoeJxc0jFPUzD",
      "include_colab_link": true
    },
    "kernelspec": {
      "name": "python3",
      "display_name": "Python 3"
    },
    "language_info": {
      "name": "python"
    }
  },
  "cells": [
    {
      "cell_type": "markdown",
      "metadata": {
        "id": "view-in-github",
        "colab_type": "text"
      },
      "source": [
        "<a href=\"https://colab.research.google.com/github/bharaniakella/ABC_dsa/blob/main/search_in_2d_matrix.ipynb\" target=\"_parent\"><img src=\"https://colab.research.google.com/assets/colab-badge.svg\" alt=\"Open In Colab\"/></a>"
      ]
    },
    {
      "cell_type": "code",
      "execution_count": 1,
      "metadata": {
        "id": "lcrCqVcWY4wi"
      },
      "outputs": [],
      "source": [
        "class Solution:\n",
        "    def searchMatrix(self, matrix: List[List[int]], target: int) -> bool:\n",
        "        low=0\n",
        "        r=len(matrix)\n",
        "        c=len(matrix[0])\n",
        "        high=(r*c-1)\n",
        "\n",
        "        while(low<=high):\n",
        "            mid=low+(high-low)//2\n",
        "\n",
        "            if(matrix[mid//c][mid%c]==target):\n",
        "                return True\n",
        "            elif(target>matrix[mid//c][mid%c]):\n",
        "                low=mid+1\n",
        "            else:\n",
        "                high=mid-1\n",
        "\n",
        "        return False\n",
        ""
      ]
    }
  ]
}