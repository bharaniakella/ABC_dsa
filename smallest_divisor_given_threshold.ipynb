{
  "nbformat": 4,
  "nbformat_minor": 0,
  "metadata": {
    "colab": {
      "provenance": [],
      "authorship_tag": "ABX9TyOnwYz6DM+b+iXteOz8A3qi",
      "include_colab_link": true
    },
    "kernelspec": {
      "name": "python3",
      "display_name": "Python 3"
    },
    "language_info": {
      "name": "python"
    }
  },
  "cells": [
    {
      "cell_type": "markdown",
      "metadata": {
        "id": "view-in-github",
        "colab_type": "text"
      },
      "source": [
        "<a href=\"https://colab.research.google.com/github/bharaniakella/ABC_dsa/blob/main/smallest_divisor_given_threshold.ipynb\" target=\"_parent\"><img src=\"https://colab.research.google.com/assets/colab-badge.svg\" alt=\"Open In Colab\"/></a>"
      ]
    },
    {
      "cell_type": "code",
      "execution_count": null,
      "metadata": {
        "id": "dHNgili2TSb_"
      },
      "outputs": [],
      "source": [
        "class Solution:\n",
        "    def smallestDivisor(self, nums: List[int], threshold: int) -> int:\n",
        "\n",
        "        low=1\n",
        "        high=max(nums)\n",
        "        ans=0\n",
        "\n",
        "        def find_total(nums,div):\n",
        "            total=0\n",
        "            for i in range(len(nums)):\n",
        "                total+=ceil(nums[i]/div)\n",
        "            return total\n",
        "\n",
        "\n",
        "        while(low<=high):\n",
        "            mid=low+(high-low)//2\n",
        "            total=find_total(nums,mid)\n",
        "            if(total<=threshold):\n",
        "                ans=mid\n",
        "                high=mid-1\n",
        "            else:\n",
        "                low=mid+1\n",
        "\n",
        "        return ans\n"
      ]
    }
  ]
}