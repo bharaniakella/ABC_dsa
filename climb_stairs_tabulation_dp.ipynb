{
  "nbformat": 4,
  "nbformat_minor": 0,
  "metadata": {
    "colab": {
      "provenance": [],
      "authorship_tag": "ABX9TyO3shBRbA0zuS5GaBQtdb9R",
      "include_colab_link": true
    },
    "kernelspec": {
      "name": "python3",
      "display_name": "Python 3"
    },
    "language_info": {
      "name": "python"
    }
  },
  "cells": [
    {
      "cell_type": "markdown",
      "metadata": {
        "id": "view-in-github",
        "colab_type": "text"
      },
      "source": [
        "<a href=\"https://colab.research.google.com/github/bharaniakella/ABC_dsa/blob/main/climb_stairs_tabulation_dp.ipynb\" target=\"_parent\"><img src=\"https://colab.research.google.com/assets/colab-badge.svg\" alt=\"Open In Colab\"/></a>"
      ]
    },
    {
      "cell_type": "code",
      "execution_count": null,
      "metadata": {
        "id": "PJGnCxs0xKVy"
      },
      "outputs": [],
      "source": [
        "class Solution:\n",
        "    def climbStairs(self, n: int) -> int:\n",
        "        tab=[0]*(n+1)\n",
        "        if(n==1 or n==2):\n",
        "            return n\n",
        "        else:\n",
        "            tab[1],tab[2]=1,2\n",
        "\n",
        "        for i in range(3,len(tab)):\n",
        "            tab[i]+=tab[i-1]+tab[i-2]\n",
        "\n",
        "        return tab[-1]\n",
        "\n",
        ""
      ]
    }
  ]
}