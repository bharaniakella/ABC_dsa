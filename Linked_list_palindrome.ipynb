{
  "nbformat": 4,
  "nbformat_minor": 0,
  "metadata": {
    "colab": {
      "provenance": [],
      "authorship_tag": "ABX9TyOcPM+d8NgQeCro1yazMOzd",
      "include_colab_link": true
    },
    "kernelspec": {
      "name": "python3",
      "display_name": "Python 3"
    },
    "language_info": {
      "name": "python"
    }
  },
  "cells": [
    {
      "cell_type": "markdown",
      "metadata": {
        "id": "view-in-github",
        "colab_type": "text"
      },
      "source": [
        "<a href=\"https://colab.research.google.com/github/bharaniakella/ABC_dsa/blob/main/Linked_list_palindrome.ipynb\" target=\"_parent\"><img src=\"https://colab.research.google.com/assets/colab-badge.svg\" alt=\"Open In Colab\"/></a>"
      ]
    },
    {
      "cell_type": "code",
      "execution_count": null,
      "metadata": {
        "id": "9kmH7_gkMOr9"
      },
      "outputs": [],
      "source": [
        "# Definition for singly-linked list.\n",
        "# class ListNode:\n",
        "#     def __init__(self, val=0, next=None):\n",
        "#         self.val = val\n",
        "#         self.next = next\n",
        "class Solution:\n",
        "    def isPalindrome(self, head: Optional[ListNode]) -> bool:\n",
        "        if not head:\n",
        "            return None\n",
        "        temphead=slow=head\n",
        "        fast=head\n",
        "        while(fast and fast.next):\n",
        "            slow=slow.next\n",
        "            fast=fast.next.next\n",
        "\n",
        "        curr=slow\n",
        "        prev=None\n",
        "        while(curr):\n",
        "            nextNode=curr.next\n",
        "            curr.next=prev\n",
        "            prev=curr\n",
        "            curr=nextNode\n",
        "\n",
        "        while(prev):\n",
        "            if(temphead.val!=prev.val):\n",
        "                return False\n",
        "            prev=prev.next\n",
        "            temphead=temphead.next\n",
        "        return True\n",
        "\n",
        "\n",
        ""
      ]
    }
  ]
}