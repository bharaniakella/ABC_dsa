{
  "nbformat": 4,
  "nbformat_minor": 0,
  "metadata": {
    "colab": {
      "provenance": [],
      "authorship_tag": "ABX9TyM0aMBvYNPBqKTMRJI5qUwT",
      "include_colab_link": true
    },
    "kernelspec": {
      "name": "python3",
      "display_name": "Python 3"
    },
    "language_info": {
      "name": "python"
    }
  },
  "cells": [
    {
      "cell_type": "markdown",
      "metadata": {
        "id": "view-in-github",
        "colab_type": "text"
      },
      "source": [
        "<a href=\"https://colab.research.google.com/github/bharaniakella/ABC_dsa/blob/main/subarray_sums_divisible_by_k.ipynb\" target=\"_parent\"><img src=\"https://colab.research.google.com/assets/colab-badge.svg\" alt=\"Open In Colab\"/></a>"
      ]
    },
    {
      "cell_type": "code",
      "execution_count": null,
      "metadata": {
        "id": "MAKlozVCvZRp"
      },
      "outputs": [],
      "source": [
        "class Solution:\n",
        "    def subarraysDivByK(self, nums: List[int], k: int) -> int:\n",
        "        pref_arr=[0]*len(nums)\n",
        "        pref_arr[0]=nums[0]\n",
        "        ans=0\n",
        "\n",
        "        freq_arr=[0]*k\n",
        "        for i in range(len(nums)):\n",
        "            pref_arr[i]=pref_arr[i-1]+nums[i]\n",
        "\n",
        "        for i in range(len(pref_arr)):\n",
        "            pref_arr[i]=(pref_arr[i]+k)%k\n",
        "\n",
        "\n",
        "        for i in range(len(pref_arr)):\n",
        "            ans=ans+freq_arr[pref_arr[i]]\n",
        "            freq_arr[pref_arr[i]]=freq_arr[pref_arr[i]]+1\n",
        "\n",
        "            if(pref_arr[i]==0):\n",
        "                ans=ans+1\n",
        "\n",
        "        return ans\n"
      ]
    }
  ]
}