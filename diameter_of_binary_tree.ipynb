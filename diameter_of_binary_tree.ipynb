{
  "nbformat": 4,
  "nbformat_minor": 0,
  "metadata": {
    "colab": {
      "provenance": [],
      "authorship_tag": "ABX9TyPu9+BgI961moDR1YZx6/mW",
      "include_colab_link": true
    },
    "kernelspec": {
      "name": "python3",
      "display_name": "Python 3"
    },
    "language_info": {
      "name": "python"
    }
  },
  "cells": [
    {
      "cell_type": "markdown",
      "metadata": {
        "id": "view-in-github",
        "colab_type": "text"
      },
      "source": [
        "<a href=\"https://colab.research.google.com/github/bharaniakella/ABC_dsa/blob/main/diameter_of_binary_tree.ipynb\" target=\"_parent\"><img src=\"https://colab.research.google.com/assets/colab-badge.svg\" alt=\"Open In Colab\"/></a>"
      ]
    },
    {
      "cell_type": "code",
      "execution_count": null,
      "metadata": {
        "id": "yq9B56ZCkug0"
      },
      "outputs": [],
      "source": [
        "class Solution:\n",
        "    dia=0\n",
        "    def diameterOfBinaryTree(self, root: Optional[TreeNode]) -> int:\n",
        "\n",
        "        self.findHeight(root)\n",
        "        return self.dia\n",
        "\n",
        "    def findHeight(self,root):\n",
        "        if(root is None):\n",
        "            return 0\n",
        "\n",
        "        lh=self.findHeight(root.left)\n",
        "        rh=self.findHeight(root.right)\n",
        "        self.dia=max(self.dia,lh+rh)\n",
        "\n",
        "        return 1+ max(lh,rh)\n",
        ""
      ]
    }
  ]
}