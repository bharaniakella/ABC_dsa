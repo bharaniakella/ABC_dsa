{
  "nbformat": 4,
  "nbformat_minor": 0,
  "metadata": {
    "colab": {
      "provenance": [],
      "authorship_tag": "ABX9TyPSDvfYLGKJYWrIB3NXu++E",
      "include_colab_link": true
    },
    "kernelspec": {
      "name": "python3",
      "display_name": "Python 3"
    },
    "language_info": {
      "name": "python"
    }
  },
  "cells": [
    {
      "cell_type": "markdown",
      "metadata": {
        "id": "view-in-github",
        "colab_type": "text"
      },
      "source": [
        "<a href=\"https://colab.research.google.com/github/bharaniakella/ABC_dsa/blob/main/Container_with_most_Water.ipynb\" target=\"_parent\"><img src=\"https://colab.research.google.com/assets/colab-badge.svg\" alt=\"Open In Colab\"/></a>"
      ]
    },
    {
      "cell_type": "code",
      "execution_count": null,
      "metadata": {
        "id": "irHhbb6hLdgs"
      },
      "outputs": [],
      "source": [
        "class Solution:\n",
        "    def maxArea(self, height: List[int]) -> int:\n",
        "        max_area=0\n",
        "        l=0\n",
        "        r=len(height)-1\n",
        "        while(l<=r):\n",
        "            area=min(height[l],height[r])*(r-l)\n",
        "            max_area=max(max_area,area)\n",
        "            if(height[l]<=height[r]):\n",
        "                l=l+1\n",
        "            else:\n",
        "                r=r-1\n",
        "        return max_area\n",
        "\n",
        ""
      ]
    }
  ]
}