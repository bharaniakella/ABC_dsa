{
  "nbformat": 4,
  "nbformat_minor": 0,
  "metadata": {
    "colab": {
      "provenance": [],
      "authorship_tag": "ABX9TyO+0jdi/zTn4f8KejomL46q",
      "include_colab_link": true
    },
    "kernelspec": {
      "name": "python3",
      "display_name": "Python 3"
    },
    "language_info": {
      "name": "python"
    }
  },
  "cells": [
    {
      "cell_type": "markdown",
      "metadata": {
        "id": "view-in-github",
        "colab_type": "text"
      },
      "source": [
        "<a href=\"https://colab.research.google.com/github/bharaniakella/ABC_dsa/blob/main/search_insert_position.ipynb\" target=\"_parent\"><img src=\"https://colab.research.google.com/assets/colab-badge.svg\" alt=\"Open In Colab\"/></a>"
      ]
    },
    {
      "cell_type": "code",
      "execution_count": null,
      "metadata": {
        "id": "f2f4iip4Wy0w"
      },
      "outputs": [],
      "source": [
        "class Solution:\n",
        "    def searchInsert(self, nums: List[int], target: int) -> int:\n",
        "        low=0\n",
        "        high=len(nums)-1\n",
        "        res=len(nums)\n",
        "        while(low<=high):\n",
        "            mid=low+(high-low)//2\n",
        "            if(target<=nums[mid]):\n",
        "                res=mid\n",
        "                high=mid-1\n",
        "            else:\n",
        "                low=mid+1\n",
        "        return res\n",
        "\n",
        ""
      ]
    }
  ]
}