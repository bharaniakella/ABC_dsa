{
  "nbformat": 4,
  "nbformat_minor": 0,
  "metadata": {
    "colab": {
      "provenance": [],
      "authorship_tag": "ABX9TyOA7Efy7LgnkDq3kBex+x9n",
      "include_colab_link": true
    },
    "kernelspec": {
      "name": "python3",
      "display_name": "Python 3"
    },
    "language_info": {
      "name": "python"
    }
  },
  "cells": [
    {
      "cell_type": "markdown",
      "metadata": {
        "id": "view-in-github",
        "colab_type": "text"
      },
      "source": [
        "<a href=\"https://colab.research.google.com/github/bharaniakella/ABC_dsa/blob/main/Valid_anagram.ipynb\" target=\"_parent\"><img src=\"https://colab.research.google.com/assets/colab-badge.svg\" alt=\"Open In Colab\"/></a>"
      ]
    },
    {
      "cell_type": "code",
      "source": [
        "class Solution:\n",
        "    def isAnagram(self, s: str, t: str) -> bool:\n",
        "        if(len(s)!=len(t)):\n",
        "            return False\n",
        "\n",
        "        s_dict=dict()\n",
        "        t_dict=dict()\n",
        "        for i in range(len(s)):\n",
        "            s_dict[s[i]]=s_dict.get(s[i],0)+1\n",
        "            t_dict[t[i]]=t_dict.get(t[i],0)+1\n",
        "\n",
        "\n",
        "        for i in s_dict.keys():\n",
        "            if(s_dict[i]!=t_dict.get(i,0)):\n",
        "                return False\n",
        "\n",
        "        return True"
      ],
      "metadata": {
        "id": "RBK8TlQBA2U1"
      },
      "execution_count": 14,
      "outputs": []
    }
  ]
}