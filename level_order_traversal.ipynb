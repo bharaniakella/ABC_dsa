{
  "nbformat": 4,
  "nbformat_minor": 0,
  "metadata": {
    "colab": {
      "provenance": [],
      "authorship_tag": "ABX9TyOcQG6hrWmdDm/UxDlDCfN3",
      "include_colab_link": true
    },
    "kernelspec": {
      "name": "python3",
      "display_name": "Python 3"
    },
    "language_info": {
      "name": "python"
    }
  },
  "cells": [
    {
      "cell_type": "markdown",
      "metadata": {
        "id": "view-in-github",
        "colab_type": "text"
      },
      "source": [
        "<a href=\"https://colab.research.google.com/github/bharaniakella/ABC_dsa/blob/main/level_order_traversal.ipynb\" target=\"_parent\"><img src=\"https://colab.research.google.com/assets/colab-badge.svg\" alt=\"Open In Colab\"/></a>"
      ]
    },
    {
      "cell_type": "code",
      "execution_count": 5,
      "metadata": {
        "id": "v6_ETSjWEvlP"
      },
      "outputs": [],
      "source": [
        "class TreeNode:\n",
        "  def __init__(self,data):\n",
        "    self.data=data\n",
        "    self.leftchild=None\n",
        "    self.rightchild=None\n"
      ]
    },
    {
      "cell_type": "code",
      "source": [
        "from queue import Queue"
      ],
      "metadata": {
        "id": "14XMarkHFBzx"
      },
      "execution_count": 6,
      "outputs": []
    },
    {
      "cell_type": "code",
      "source": [
        "def levelOrder(rootNode):\n",
        "  if rootNode is None:\n",
        "    return\n",
        "\n",
        "  my_q=Queue()\n",
        "  my_q.put(rootNode)\n",
        "\n",
        "  while(not my_q.empty()):\n",
        "    node=my_q.get()\n",
        "    if(node.leftchild):\n",
        "      my_q.put(node.leftchild)\n",
        "    if(node.rightchild):\n",
        "      my_q.put(node.rightchild)\n",
        "\n",
        "    print(node.data)"
      ],
      "metadata": {
        "id": "NiJUyk30FEOm"
      },
      "execution_count": 14,
      "outputs": []
    },
    {
      "cell_type": "code",
      "source": [
        "beverage=TreeNode('beverage')\n",
        "hot=TreeNode('hot')\n",
        "cold=TreeNode('cold')\n",
        "tea=TreeNode('tea')\n",
        "coffee=TreeNode('coffee')\n",
        "beer=TreeNode('beer')\n",
        "pepsi=TreeNode('pepsi')"
      ],
      "metadata": {
        "id": "u1Vdn-5wGKHW"
      },
      "execution_count": 15,
      "outputs": []
    },
    {
      "cell_type": "code",
      "source": [
        "beverage.leftchild=hot\n",
        "beverage.rightchild=cold\n",
        "\n",
        "hot.leftchild=tea\n",
        "hot.rightchild=coffee\n",
        "\n",
        "cold.leftchild=beer\n"
      ],
      "metadata": {
        "id": "vZNKJH6VGMQ6"
      },
      "execution_count": 16,
      "outputs": []
    },
    {
      "cell_type": "code",
      "source": [
        "levelOrder(beverage)"
      ],
      "metadata": {
        "colab": {
          "base_uri": "https://localhost:8080/"
        },
        "id": "wknXrI8GGVq4",
        "outputId": "fa1b26d7-fd9a-4f87-ba83-0cc219dcb4d6"
      },
      "execution_count": 17,
      "outputs": [
        {
          "output_type": "stream",
          "name": "stdout",
          "text": [
            "beverage\n",
            "hot\n",
            "cold\n",
            "tea\n",
            "coffee\n",
            "beer\n"
          ]
        }
      ]
    },
    {
      "cell_type": "code",
      "source": [],
      "metadata": {
        "id": "kECfpU7tGYhs"
      },
      "execution_count": null,
      "outputs": []
    }
  ]
}