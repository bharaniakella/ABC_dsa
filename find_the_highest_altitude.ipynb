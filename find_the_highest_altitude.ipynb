{
  "nbformat": 4,
  "nbformat_minor": 0,
  "metadata": {
    "colab": {
      "provenance": [],
      "authorship_tag": "ABX9TyPzS/lPeA5SoksXMrdWbDpQ",
      "include_colab_link": true
    },
    "kernelspec": {
      "name": "python3",
      "display_name": "Python 3"
    },
    "language_info": {
      "name": "python"
    }
  },
  "cells": [
    {
      "cell_type": "markdown",
      "metadata": {
        "id": "view-in-github",
        "colab_type": "text"
      },
      "source": [
        "<a href=\"https://colab.research.google.com/github/bharaniakella/ABC_dsa/blob/main/find_the_highest_altitude.ipynb\" target=\"_parent\"><img src=\"https://colab.research.google.com/assets/colab-badge.svg\" alt=\"Open In Colab\"/></a>"
      ]
    },
    {
      "cell_type": "code",
      "execution_count": null,
      "metadata": {
        "id": "1pMqzZ43uXIw"
      },
      "outputs": [],
      "source": [
        "class Solution:\n",
        "    def largestAltitude(self, gain: List[int]) -> int:\n",
        "        altitudes=[0]*(len(gain)+1)\n",
        "        max_alt=0\n",
        "        for i in range(len(gain)):\n",
        "            altitudes[i+1]=altitudes[i]+gain[i]\n",
        "            max_alt=max(max_alt,altitudes[i+1])\n",
        "        return max_alt\n",
        ""
      ]
    }
  ]
}