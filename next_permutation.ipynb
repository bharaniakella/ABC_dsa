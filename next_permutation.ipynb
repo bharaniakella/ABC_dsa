{
  "nbformat": 4,
  "nbformat_minor": 0,
  "metadata": {
    "colab": {
      "provenance": [],
      "authorship_tag": "ABX9TyPxots5ZB9qfIztR/+OUghv",
      "include_colab_link": true
    },
    "kernelspec": {
      "name": "python3",
      "display_name": "Python 3"
    },
    "language_info": {
      "name": "python"
    }
  },
  "cells": [
    {
      "cell_type": "markdown",
      "metadata": {
        "id": "view-in-github",
        "colab_type": "text"
      },
      "source": [
        "<a href=\"https://colab.research.google.com/github/bharaniakella/ABC_dsa/blob/main/next_permutation.ipynb\" target=\"_parent\"><img src=\"https://colab.research.google.com/assets/colab-badge.svg\" alt=\"Open In Colab\"/></a>"
      ]
    },
    {
      "cell_type": "code",
      "execution_count": 11,
      "metadata": {
        "id": "ApRh16HG4Mgl"
      },
      "outputs": [],
      "source": [
        "class Solution:\n",
        "    def nextPermutation(self, nums: List[int]) -> None:\n",
        "        \"\"\"\n",
        "        Do not return anything, modify nums in-place instead.\n",
        "        \"\"\"\n",
        "        index=-1\n",
        "        n=len(nums)\n",
        "        for i in range(n-2,-1,-1):\n",
        "            if(nums[i]<nums[i+1]):\n",
        "                index=i\n",
        "                break\n",
        "\n",
        "        if(index==-1):\n",
        "            return nums.reverse()\n",
        "\n",
        "        for i in range(n-1,index,-1):\n",
        "            if(nums[i]>nums[index]):\n",
        "                temp=nums[index]\n",
        "                nums[index]=nums[i]\n",
        "                nums[i]=temp\n",
        "                break\n",
        "\n",
        "        nums[index+1:]=reversed(nums[index+1:])\n",
        "\n",
        "\n",
        ""
      ]
    }
  ]
}