{
  "nbformat": 4,
  "nbformat_minor": 0,
  "metadata": {
    "colab": {
      "provenance": [],
      "authorship_tag": "ABX9TyN9G93AX2oPztdmE9SwtCkD",
      "include_colab_link": true
    },
    "kernelspec": {
      "name": "python3",
      "display_name": "Python 3"
    },
    "language_info": {
      "name": "python"
    }
  },
  "cells": [
    {
      "cell_type": "markdown",
      "metadata": {
        "id": "view-in-github",
        "colab_type": "text"
      },
      "source": [
        "<a href=\"https://colab.research.google.com/github/bharaniakella/ABC_dsa/blob/main/symmetric_tree.ipynb\" target=\"_parent\"><img src=\"https://colab.research.google.com/assets/colab-badge.svg\" alt=\"Open In Colab\"/></a>"
      ]
    },
    {
      "cell_type": "code",
      "execution_count": null,
      "metadata": {
        "id": "dITf3-eXZBAb"
      },
      "outputs": [],
      "source": [
        "class Solution:\n",
        "    def isSymmetric(self, root: Optional[TreeNode]) -> bool:\n",
        "        if(not root):\n",
        "            return True\n",
        "\n",
        "        def helper(l,r):\n",
        "            if not l  and not r :\n",
        "                return True\n",
        "\n",
        "            elif((not l and  r) or (not r and  l) or (l.val!=r.val)):\n",
        "                return False\n",
        "\n",
        "\n",
        "            return helper(l.left,r.right) and helper(l.right,r.left)\n",
        "\n",
        "        return helper(root.left,root.right)\n",
        ""
      ]
    }
  ]
}