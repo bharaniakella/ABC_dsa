{
  "nbformat": 4,
  "nbformat_minor": 0,
  "metadata": {
    "colab": {
      "provenance": [],
      "authorship_tag": "ABX9TyOGz1ANkSId1RrzfZsHLD7J",
      "include_colab_link": true
    },
    "kernelspec": {
      "name": "python3",
      "display_name": "Python 3"
    },
    "language_info": {
      "name": "python"
    }
  },
  "cells": [
    {
      "cell_type": "markdown",
      "metadata": {
        "id": "view-in-github",
        "colab_type": "text"
      },
      "source": [
        "<a href=\"https://colab.research.google.com/github/bharaniakella/ABC_dsa/blob/main/min_rot_sort_arr.ipynb\" target=\"_parent\"><img src=\"https://colab.research.google.com/assets/colab-badge.svg\" alt=\"Open In Colab\"/></a>"
      ]
    },
    {
      "cell_type": "code",
      "execution_count": null,
      "metadata": {
        "id": "Lm1lGkgdBPdT"
      },
      "outputs": [],
      "source": [
        "class Solution:\n",
        "    def findMin(self, nums: List[int]) -> int:\n",
        "        curr_min=final_min=float('inf')\n",
        "\n",
        "        low=0\n",
        "        high=len(nums)-1\n",
        "        while(low<=high):\n",
        "            mid=low+(high-low)//2\n",
        "            if(nums[low]<=nums[mid]):\n",
        "                curr_min=nums[low]\n",
        "                final_min=min(final_min,curr_min)\n",
        "                low=mid+1\n",
        "            else:\n",
        "                curr_min=nums[mid]\n",
        "                final_min=min(final_min,curr_min)\n",
        "                high=mid-1\n",
        "\n",
        "        return final_min"
      ]
    }
  ]
}