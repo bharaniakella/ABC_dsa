{
  "nbformat": 4,
  "nbformat_minor": 0,
  "metadata": {
    "colab": {
      "provenance": [],
      "authorship_tag": "ABX9TyNKLT7sTc687AYwwi1Txa9C",
      "include_colab_link": true
    },
    "kernelspec": {
      "name": "python3",
      "display_name": "Python 3"
    },
    "language_info": {
      "name": "python"
    }
  },
  "cells": [
    {
      "cell_type": "markdown",
      "metadata": {
        "id": "view-in-github",
        "colab_type": "text"
      },
      "source": [
        "<a href=\"https://colab.research.google.com/github/bharaniakella/ABC_dsa/blob/main/Odd_even_linked_list.ipynb\" target=\"_parent\"><img src=\"https://colab.research.google.com/assets/colab-badge.svg\" alt=\"Open In Colab\"/></a>"
      ]
    },
    {
      "cell_type": "code",
      "execution_count": null,
      "metadata": {
        "id": "teol6JgYuiXm"
      },
      "outputs": [],
      "source": [
        "# Definition for singly-linked list.\n",
        "# class ListNode:\n",
        "#     def __init__(self, val=0, next=None):\n",
        "#         self.val = val\n",
        "#         self.next = next\n",
        "class Solution:\n",
        "    def oddEvenList(self, head: Optional[ListNode]) -> Optional[ListNode]:\n",
        "        if head is None:\n",
        "            return None\n",
        "        if head.next is None:\n",
        "            return head\n",
        "\n",
        "        temphead=oddhead=head\n",
        "        evenhead_pt=evenhead=head.next\n",
        "\n",
        "        while(evenhead and evenhead.next):\n",
        "            oddhead.next=evenhead.next\n",
        "            oddhead=evenhead.next\n",
        "            evenhead.next=oddhead.next\n",
        "            evenhead=oddhead.next\n",
        "\n",
        "        oddhead.next=evenhead_pt\n",
        "\n",
        "        return temphead\n",
        ""
      ]
    }
  ]
}