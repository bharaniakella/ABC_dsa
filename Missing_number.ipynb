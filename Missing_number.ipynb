{
  "nbformat": 4,
  "nbformat_minor": 0,
  "metadata": {
    "colab": {
      "provenance": [],
      "authorship_tag": "ABX9TyMMjGFg/bgCiQN12aqKTtW4",
      "include_colab_link": true
    },
    "kernelspec": {
      "name": "python3",
      "display_name": "Python 3"
    },
    "language_info": {
      "name": "python"
    }
  },
  "cells": [
    {
      "cell_type": "markdown",
      "metadata": {
        "id": "view-in-github",
        "colab_type": "text"
      },
      "source": [
        "<a href=\"https://colab.research.google.com/github/bharaniakella/ABC_dsa/blob/main/Missing_number.ipynb\" target=\"_parent\"><img src=\"https://colab.research.google.com/assets/colab-badge.svg\" alt=\"Open In Colab\"/></a>"
      ]
    },
    {
      "cell_type": "code",
      "execution_count": null,
      "metadata": {
        "id": "JRQT6Tsgmq9f"
      },
      "outputs": [],
      "source": [
        "class Solution:\n",
        "    def missingNumber(self, nums: List[int]) -> int:\n",
        "        n=len(nums)\n",
        "        act_sum=(n*(n+1))/2\n",
        "        arr_sum=0\n",
        "        for i in range(len(nums)):\n",
        "            arr_sum=arr_sum+nums[i]\n",
        "\n",
        "        return(int(act_sum-arr_sum))\n",
        "\n",
        ""
      ]
    }
  ]
}