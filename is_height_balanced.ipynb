{
  "nbformat": 4,
  "nbformat_minor": 0,
  "metadata": {
    "colab": {
      "provenance": [],
      "authorship_tag": "ABX9TyP7mobdNHK0834P+wU7XQ9q",
      "include_colab_link": true
    },
    "kernelspec": {
      "name": "python3",
      "display_name": "Python 3"
    },
    "language_info": {
      "name": "python"
    }
  },
  "cells": [
    {
      "cell_type": "markdown",
      "metadata": {
        "id": "view-in-github",
        "colab_type": "text"
      },
      "source": [
        "<a href=\"https://colab.research.google.com/github/bharaniakella/ABC_dsa/blob/main/is_height_balanced.ipynb\" target=\"_parent\"><img src=\"https://colab.research.google.com/assets/colab-badge.svg\" alt=\"Open In Colab\"/></a>"
      ]
    },
    {
      "cell_type": "code",
      "execution_count": null,
      "metadata": {
        "id": "PNYGkdAeHbxC"
      },
      "outputs": [],
      "source": [
        "class Solution:\n",
        "    def isBalanced(self, root: Optional[TreeNode]) -> bool:\n",
        "\n",
        "        return self.findHeight(root)!=-1\n",
        "\n",
        "    def findHeight(self,root):\n",
        "        if root is None:\n",
        "            return 0\n",
        "\n",
        "        lh=self.findHeight(root.left)\n",
        "        if(lh==-1):\n",
        "            return -1\n",
        "        rh=self.findHeight(root.right)\n",
        "        if(rh==-1):\n",
        "            return -1\n",
        "\n",
        "        if(abs(lh-rh)>1):\n",
        "            return -1\n",
        "\n",
        "        return 1+ max(lh,rh)\n",
        "\n"
      ]
    }
  ]
}