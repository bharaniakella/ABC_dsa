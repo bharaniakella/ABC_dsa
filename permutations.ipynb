{
  "nbformat": 4,
  "nbformat_minor": 0,
  "metadata": {
    "colab": {
      "provenance": [],
      "authorship_tag": "ABX9TyN1hYroB+2ZPiKC4j5LrsDU",
      "include_colab_link": true
    },
    "kernelspec": {
      "name": "python3",
      "display_name": "Python 3"
    },
    "language_info": {
      "name": "python"
    }
  },
  "cells": [
    {
      "cell_type": "markdown",
      "metadata": {
        "id": "view-in-github",
        "colab_type": "text"
      },
      "source": [
        "<a href=\"https://colab.research.google.com/github/bharaniakella/ABC_dsa/blob/main/permutations.ipynb\" target=\"_parent\"><img src=\"https://colab.research.google.com/assets/colab-badge.svg\" alt=\"Open In Colab\"/></a>"
      ]
    },
    {
      "cell_type": "code",
      "execution_count": null,
      "metadata": {
        "id": "N_1g-C04dEGW"
      },
      "outputs": [],
      "source": [
        "class Solution:\n",
        "    def permute(self, nums: List[int]) -> List[List[int]]:\n",
        "        res=[]\n",
        "        n=len(nums)\n",
        "\n",
        "\n",
        "        def helper(index):\n",
        "            if(index==n-1):\n",
        "                res.append(nums[:])\n",
        "                return\n",
        "\n",
        "            for j in range(index,n):\n",
        "                nums[index],nums[j]=nums[j],nums[index]\n",
        "                helper(index+1)\n",
        "                nums[index],nums[j]=nums[j],nums[index]\n",
        "\n",
        "        helper(0)\n",
        "        return res"
      ]
    }
  ]
}