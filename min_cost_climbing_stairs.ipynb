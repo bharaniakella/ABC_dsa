{
  "nbformat": 4,
  "nbformat_minor": 0,
  "metadata": {
    "colab": {
      "provenance": [],
      "authorship_tag": "ABX9TyPwjj5gTqkEq8rUC8G9kiKJ",
      "include_colab_link": true
    },
    "kernelspec": {
      "name": "python3",
      "display_name": "Python 3"
    },
    "language_info": {
      "name": "python"
    }
  },
  "cells": [
    {
      "cell_type": "markdown",
      "metadata": {
        "id": "view-in-github",
        "colab_type": "text"
      },
      "source": [
        "<a href=\"https://colab.research.google.com/github/bharaniakella/ABC_dsa/blob/main/min_cost_climbing_stairs.ipynb\" target=\"_parent\"><img src=\"https://colab.research.google.com/assets/colab-badge.svg\" alt=\"Open In Colab\"/></a>"
      ]
    },
    {
      "cell_type": "code",
      "execution_count": null,
      "metadata": {
        "id": "P0qMaEnRN8bw"
      },
      "outputs": [],
      "source": [
        "class Solution:\n",
        "    def minCostClimbingStairs(self, cost: List[int]) -> int:\n",
        "        n=len(cost)\n",
        "        minCost=[0]*(n+1)\n",
        "\n",
        "        for i in range(2,len(minCost)):\n",
        "            oneStep=minCost[i-1]+cost[i-1]\n",
        "            twoStep=minCost[i-2]+cost[i-2]\n",
        "            minCost[i]=min(oneStep,twoStep)\n",
        "\n",
        "        return minCost[-1]\n",
        "\n",
        ""
      ]
    }
  ]
}