{
  "nbformat": 4,
  "nbformat_minor": 0,
  "metadata": {
    "colab": {
      "provenance": [],
      "authorship_tag": "ABX9TyOZiUkuVfCil1ehlYm5spyB",
      "include_colab_link": true
    },
    "kernelspec": {
      "name": "python3",
      "display_name": "Python 3"
    },
    "language_info": {
      "name": "python"
    }
  },
  "cells": [
    {
      "cell_type": "markdown",
      "metadata": {
        "id": "view-in-github",
        "colab_type": "text"
      },
      "source": [
        "<a href=\"https://colab.research.google.com/github/bharaniakella/ABC_dsa/blob/main/search_in_rot_sort_arr_dup.ipynb\" target=\"_parent\"><img src=\"https://colab.research.google.com/assets/colab-badge.svg\" alt=\"Open In Colab\"/></a>"
      ]
    },
    {
      "cell_type": "code",
      "execution_count": null,
      "metadata": {
        "id": "k1YX3K6r3hjG"
      },
      "outputs": [],
      "source": [
        "class Solution:\n",
        "    def search(self, nums: List[int], target: int) -> bool:\n",
        "        low=0\n",
        "        high=len(nums)-1\n",
        "        while(low<=high):\n",
        "            mid=low+(high-low)//2\n",
        "\n",
        "            if(nums[mid]==target):\n",
        "                return True\n",
        "\n",
        "            if(nums[low]==nums[mid]==nums[high]):\n",
        "                low=low+1\n",
        "                high=high-1\n",
        "                continue\n",
        "\n",
        "            if(nums[low]<=nums[mid]):\n",
        "                if(nums[low]<=target<=nums[mid]):\n",
        "                    high=mid-1\n",
        "                else:\n",
        "                    low=mid+1\n",
        "\n",
        "            else:\n",
        "                if(nums[mid]<=target<=nums[high]):\n",
        "                    low=mid+1\n",
        "                else:\n",
        "                    high=mid-1\n",
        "\n",
        "        return False\n",
        "\n"
      ]
    }
  ]
}