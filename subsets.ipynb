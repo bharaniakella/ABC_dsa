{
  "nbformat": 4,
  "nbformat_minor": 0,
  "metadata": {
    "colab": {
      "provenance": [],
      "authorship_tag": "ABX9TyM4mDnzpC8LySgBsgLzGqC7",
      "include_colab_link": true
    },
    "kernelspec": {
      "name": "python3",
      "display_name": "Python 3"
    },
    "language_info": {
      "name": "python"
    }
  },
  "cells": [
    {
      "cell_type": "markdown",
      "metadata": {
        "id": "view-in-github",
        "colab_type": "text"
      },
      "source": [
        "<a href=\"https://colab.research.google.com/github/bharaniakella/ABC_dsa/blob/main/subsets.ipynb\" target=\"_parent\"><img src=\"https://colab.research.google.com/assets/colab-badge.svg\" alt=\"Open In Colab\"/></a>"
      ]
    },
    {
      "cell_type": "code",
      "execution_count": null,
      "metadata": {
        "id": "0QwSXBJAKESY"
      },
      "outputs": [],
      "source": [
        "class Solution:\n",
        "    def subsets(self, nums: List[int]) -> List[List[int]]:\n",
        "        n=len(nums)\n",
        "        res=[]\n",
        "        sub=[]\n",
        "        def helper(nums,idx):\n",
        "            if(idx==n):\n",
        "                res.append(sub[:])\n",
        "                return\n",
        "\n",
        "            helper(nums,idx+1)\n",
        "            sub.append(nums[idx])\n",
        "            helper(nums,idx+1)\n",
        "            sub.pop()\n",
        "\n",
        "        helper(nums,0)\n",
        "\n",
        "        return res\n",
        ""
      ]
    }
  ]
}