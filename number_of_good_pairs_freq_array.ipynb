{
  "nbformat": 4,
  "nbformat_minor": 0,
  "metadata": {
    "colab": {
      "provenance": [],
      "authorship_tag": "ABX9TyMFjEwfk+KNuYTg6gAlK4or",
      "include_colab_link": true
    },
    "kernelspec": {
      "name": "python3",
      "display_name": "Python 3"
    },
    "language_info": {
      "name": "python"
    }
  },
  "cells": [
    {
      "cell_type": "markdown",
      "metadata": {
        "id": "view-in-github",
        "colab_type": "text"
      },
      "source": [
        "<a href=\"https://colab.research.google.com/github/bharaniakella/ABC_dsa/blob/main/number_of_good_pairs_freq_array.ipynb\" target=\"_parent\"><img src=\"https://colab.research.google.com/assets/colab-badge.svg\" alt=\"Open In Colab\"/></a>"
      ]
    },
    {
      "cell_type": "code",
      "execution_count": null,
      "metadata": {
        "id": "_8Xgs8cSnRJf"
      },
      "outputs": [],
      "source": [
        "class Solution:\n",
        "    def numIdenticalPairs(self, nums: List[int]) -> int:\n",
        "\n",
        "        freqArray=[0]*101\n",
        "        ans=0\n",
        "\n",
        "        for i in range(len(nums)):\n",
        "            ans=ans+freqArray[nums[i]]\n",
        "            freqArray[nums[i]]=freqArray[nums[i]]+1\n",
        "\n",
        "        return ans\n",
        ""
      ]
    }
  ]
}