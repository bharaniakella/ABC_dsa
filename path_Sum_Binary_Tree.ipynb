{
  "nbformat": 4,
  "nbformat_minor": 0,
  "metadata": {
    "colab": {
      "provenance": [],
      "authorship_tag": "ABX9TyMnJ+yB5iJLHuTXaktVG5n8",
      "include_colab_link": true
    },
    "kernelspec": {
      "name": "python3",
      "display_name": "Python 3"
    },
    "language_info": {
      "name": "python"
    }
  },
  "cells": [
    {
      "cell_type": "markdown",
      "metadata": {
        "id": "view-in-github",
        "colab_type": "text"
      },
      "source": [
        "<a href=\"https://colab.research.google.com/github/bharaniakella/ABC_dsa/blob/main/path_Sum_Binary_Tree.ipynb\" target=\"_parent\"><img src=\"https://colab.research.google.com/assets/colab-badge.svg\" alt=\"Open In Colab\"/></a>"
      ]
    },
    {
      "cell_type": "code",
      "execution_count": null,
      "metadata": {
        "id": "Wzudp7MTJyIQ"
      },
      "outputs": [],
      "source": [
        "class Solution:\n",
        "\n",
        "    def hasPathSum(self, root: Optional[TreeNode], targetSum: int) -> bool:\n",
        "\n",
        "        def dfs(node,currSum):\n",
        "            if node is None:\n",
        "                return False\n",
        "\n",
        "            currSum+=node.val\n",
        "            if(not node.left and not node.right):\n",
        "                return currSum==targetSum\n",
        "\n",
        "            return(dfs(node.left,currSum) or dfs(node.right,currSum))\n",
        "\n",
        "        return dfs(root,0)\n",
        "\n",
        ""
      ]
    }
  ]
}