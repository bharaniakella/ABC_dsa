{
  "nbformat": 4,
  "nbformat_minor": 0,
  "metadata": {
    "colab": {
      "provenance": [],
      "authorship_tag": "ABX9TyNLmFrhmYmUNsoQ8WxLI6vj",
      "include_colab_link": true
    },
    "kernelspec": {
      "name": "python3",
      "display_name": "Python 3"
    },
    "language_info": {
      "name": "python"
    }
  },
  "cells": [
    {
      "cell_type": "markdown",
      "metadata": {
        "id": "view-in-github",
        "colab_type": "text"
      },
      "source": [
        "<a href=\"https://colab.research.google.com/github/bharaniakella/ABC_dsa/blob/main/fibonacci_using_dp.ipynb\" target=\"_parent\"><img src=\"https://colab.research.google.com/assets/colab-badge.svg\" alt=\"Open In Colab\"/></a>"
      ]
    },
    {
      "cell_type": "code",
      "execution_count": null,
      "metadata": {
        "id": "3XoeWA_7M1WS"
      },
      "outputs": [],
      "source": [
        "class Solution:\n",
        "    def fib(self, n: int) -> int:\n",
        "\n",
        "        def memo(n,rt={0:0,1:1}):\n",
        "            if(n<=1):\n",
        "                return rt[n]\n",
        "            else:\n",
        "                rt[n]=memo(n-1)+memo(n-2)\n",
        "                return rt[n]\n",
        "        return memo(n)\n",
        ""
      ]
    }
  ]
}