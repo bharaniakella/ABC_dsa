{
  "nbformat": 4,
  "nbformat_minor": 0,
  "metadata": {
    "colab": {
      "provenance": [],
      "authorship_tag": "ABX9TyPGTUvoqPzj27KeyofUfPjM",
      "include_colab_link": true
    },
    "kernelspec": {
      "name": "python3",
      "display_name": "Python 3"
    },
    "language_info": {
      "name": "python"
    }
  },
  "cells": [
    {
      "cell_type": "markdown",
      "metadata": {
        "id": "view-in-github",
        "colab_type": "text"
      },
      "source": [
        "<a href=\"https://colab.research.google.com/github/bharaniakella/ABC_dsa/blob/main/maximum_population_year.ipynb\" target=\"_parent\"><img src=\"https://colab.research.google.com/assets/colab-badge.svg\" alt=\"Open In Colab\"/></a>"
      ]
    },
    {
      "cell_type": "code",
      "source": [
        "import numpy as np\n",
        "class Solution:\n",
        "    def maximumPopulation(self, logs: List[List[int]]) -> int:\n",
        "        freq_year=[0]*2051\n",
        "        prefix_year=[0]*2051\n",
        "        max_pop=0\n",
        "        for [birth,death] in logs:\n",
        "            freq_year[birth]=freq_year[birth]+1\n",
        "            freq_year[death]=freq_year[death]-1\n",
        "\n",
        "        prefix_year[0]=freq_year[0]\n",
        "        for i in range(1,len(freq_year)):\n",
        "            prefix_year[i]=prefix_year[i-1]+freq_year[i]\n",
        "\n",
        "        return np.argmax(prefix_year)"
      ],
      "metadata": {
        "id": "J3w0bkLEMC3V"
      },
      "execution_count": null,
      "outputs": []
    }
  ]
}