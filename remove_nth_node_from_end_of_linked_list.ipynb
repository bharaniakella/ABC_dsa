{
  "nbformat": 4,
  "nbformat_minor": 0,
  "metadata": {
    "colab": {
      "provenance": [],
      "authorship_tag": "ABX9TyOV2viLGsfGmA84Ab6kChj2",
      "include_colab_link": true
    },
    "kernelspec": {
      "name": "python3",
      "display_name": "Python 3"
    },
    "language_info": {
      "name": "python"
    }
  },
  "cells": [
    {
      "cell_type": "markdown",
      "metadata": {
        "id": "view-in-github",
        "colab_type": "text"
      },
      "source": [
        "<a href=\"https://colab.research.google.com/github/bharaniakella/ABC_dsa/blob/main/remove_nth_node_from_end_of_linked_list.ipynb\" target=\"_parent\"><img src=\"https://colab.research.google.com/assets/colab-badge.svg\" alt=\"Open In Colab\"/></a>"
      ]
    },
    {
      "cell_type": "code",
      "execution_count": null,
      "metadata": {
        "id": "a-K2qOVuPyMU"
      },
      "outputs": [],
      "source": [
        "class Solution:\n",
        "    def removeNthFromEnd(self, head: Optional[ListNode], n: int) -> Optional[ListNode]:\n",
        "        if head is None:\n",
        "            return None\n",
        "        if head.next is None:\n",
        "            return None\n",
        "        temphead=head\n",
        "        llsize=0\n",
        "\n",
        "        while(temphead):\n",
        "            temphead=temphead.next\n",
        "            llsize=llsize+1\n",
        "\n",
        "        n=llsize-n+1\n",
        "\n",
        "        if(n==1):\n",
        "            head=head.next\n",
        "            return head\n",
        "\n",
        "        delhead=head\n",
        "        while(n>2):\n",
        "            delhead=delhead.next\n",
        "            n=n-1\n",
        "\n",
        "        delhead.next=delhead.next.next\n",
        "\n",
        "        return head"
      ]
    }
  ]
}