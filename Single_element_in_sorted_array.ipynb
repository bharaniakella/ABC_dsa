{
  "nbformat": 4,
  "nbformat_minor": 0,
  "metadata": {
    "colab": {
      "provenance": [],
      "authorship_tag": "ABX9TyPisNP2KSpdZjEihg1xGLRj",
      "include_colab_link": true
    },
    "kernelspec": {
      "name": "python3",
      "display_name": "Python 3"
    },
    "language_info": {
      "name": "python"
    }
  },
  "cells": [
    {
      "cell_type": "markdown",
      "metadata": {
        "id": "view-in-github",
        "colab_type": "text"
      },
      "source": [
        "<a href=\"https://colab.research.google.com/github/bharaniakella/ABC_dsa/blob/main/Single_element_in_sorted_array.ipynb\" target=\"_parent\"><img src=\"https://colab.research.google.com/assets/colab-badge.svg\" alt=\"Open In Colab\"/></a>"
      ]
    },
    {
      "cell_type": "code",
      "execution_count": null,
      "metadata": {
        "id": "cN62mh-KDRnJ"
      },
      "outputs": [],
      "source": [
        "class Solution:\n",
        "    def singleNonDuplicate(self, nums: List[int]) -> int:\n",
        "        n=len(nums)\n",
        "        if(len(nums)==1):\n",
        "            return nums[0]\n",
        "\n",
        "        if(nums[0]!=nums[1]):\n",
        "            return nums[0]\n",
        "\n",
        "        if(nums[n-1]!=nums[n-2]):\n",
        "            return nums[n-1]\n",
        "\n",
        "        low=1\n",
        "        high=n-2\n",
        "        while(low<=high):\n",
        "            mid=low+(high-low)//2\n",
        "\n",
        "            if(nums[mid]!=nums[mid-1] and nums[mid]!=nums[mid+1]):\n",
        "                return nums[mid]\n",
        "\n",
        "            if((mid%2==0 and nums[mid-1]==nums[mid])or (mid%2==1 and nums[mid+1]==nums[mid])):\n",
        "                high=mid-1\n",
        "            else:\n",
        "                low=mid+1\n",
        "\n",
        "        return -1\n",
        "\n",
        ""
      ]
    }
  ]
}