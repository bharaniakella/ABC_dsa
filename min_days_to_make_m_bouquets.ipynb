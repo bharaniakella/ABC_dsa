{
  "nbformat": 4,
  "nbformat_minor": 0,
  "metadata": {
    "colab": {
      "provenance": [],
      "authorship_tag": "ABX9TyMTI0wu+fgNUyHXv8+o50LI",
      "include_colab_link": true
    },
    "kernelspec": {
      "name": "python3",
      "display_name": "Python 3"
    },
    "language_info": {
      "name": "python"
    }
  },
  "cells": [
    {
      "cell_type": "markdown",
      "metadata": {
        "id": "view-in-github",
        "colab_type": "text"
      },
      "source": [
        "<a href=\"https://colab.research.google.com/github/bharaniakella/ABC_dsa/blob/main/min_days_to_make_m_bouquets.ipynb\" target=\"_parent\"><img src=\"https://colab.research.google.com/assets/colab-badge.svg\" alt=\"Open In Colab\"/></a>"
      ]
    },
    {
      "cell_type": "code",
      "execution_count": null,
      "metadata": {
        "id": "uTXzZOUDwIVe"
      },
      "outputs": [],
      "source": [
        "class Solution:\n",
        "    def minDays(self, bloomDay: List[int], m: int, k: int) -> int:\n",
        "        if(m*k>len(bloomDay)):\n",
        "            return -1\n",
        "        low=min(bloomDay)\n",
        "        high=max(bloomDay)\n",
        "\n",
        "        def bloom(arr,day,m,k):\n",
        "            cnt=0\n",
        "            tb=0\n",
        "            for i in range(len(arr)):\n",
        "                if(arr[i]<=day):\n",
        "                    cnt=cnt+1\n",
        "                else:\n",
        "                    tb=tb+cnt//k\n",
        "                    cnt=0\n",
        "\n",
        "            tb=tb+cnt//k\n",
        "            return tb\n",
        "\n",
        "        ans=len(bloomDay)\n",
        "        while(low<=high):\n",
        "            mid=low+(high-low)//2\n",
        "            if(bloom(bloomDay,mid,m,k)>=m):\n",
        "                ans=mid\n",
        "                high=mid-1\n",
        "            else:\n",
        "                low=mid+1\n",
        "\n",
        "        return ans\n",
        "\n",
        ""
      ]
    }
  ]
}