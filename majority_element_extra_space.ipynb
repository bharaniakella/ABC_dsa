{
  "nbformat": 4,
  "nbformat_minor": 0,
  "metadata": {
    "colab": {
      "provenance": [],
      "authorship_tag": "ABX9TyOBWRMqVf54IR5N4nZFQErh",
      "include_colab_link": true
    },
    "kernelspec": {
      "name": "python3",
      "display_name": "Python 3"
    },
    "language_info": {
      "name": "python"
    }
  },
  "cells": [
    {
      "cell_type": "markdown",
      "metadata": {
        "id": "view-in-github",
        "colab_type": "text"
      },
      "source": [
        "<a href=\"https://colab.research.google.com/github/bharaniakella/ABC_dsa/blob/main/majority_element_extra_space.ipynb\" target=\"_parent\"><img src=\"https://colab.research.google.com/assets/colab-badge.svg\" alt=\"Open In Colab\"/></a>"
      ]
    },
    {
      "cell_type": "code",
      "execution_count": 1,
      "metadata": {
        "id": "YEDpx0AoTxuF"
      },
      "outputs": [],
      "source": [
        "class Solution:\n",
        "    def majorityElement(self, nums: List[int]) -> int:\n",
        "        mydict={}\n",
        "        for i in range(len(nums)):\n",
        "            mydict[nums[i]]=mydict.get(nums[i],0)+1\n",
        "\n",
        "        for i in mydict.keys():\n",
        "            if(mydict[i]>len(nums)/2):\n",
        "                return i\n",
        "\n"
      ]
    }
  ]
}