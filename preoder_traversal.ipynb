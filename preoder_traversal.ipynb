{
  "nbformat": 4,
  "nbformat_minor": 0,
  "metadata": {
    "colab": {
      "provenance": [],
      "authorship_tag": "ABX9TyPUQvTOI8493c8kQG6e2xgf",
      "include_colab_link": true
    },
    "kernelspec": {
      "name": "python3",
      "display_name": "Python 3"
    },
    "language_info": {
      "name": "python"
    }
  },
  "cells": [
    {
      "cell_type": "markdown",
      "metadata": {
        "id": "view-in-github",
        "colab_type": "text"
      },
      "source": [
        "<a href=\"https://colab.research.google.com/github/bharaniakella/ABC_dsa/blob/main/preoder_traversal.ipynb\" target=\"_parent\"><img src=\"https://colab.research.google.com/assets/colab-badge.svg\" alt=\"Open In Colab\"/></a>"
      ]
    },
    {
      "cell_type": "code",
      "execution_count": 1,
      "metadata": {
        "id": "J1t8dxc9eeo4"
      },
      "outputs": [],
      "source": [
        "class TreeNode:\n",
        "  def __init__(self,data):\n",
        "    self.data=data\n",
        "    self.leftchild=None\n",
        "    self.rightchild=None\n",
        "\n",
        ""
      ]
    },
    {
      "cell_type": "code",
      "source": [
        "def preorder(rootNode):\n",
        "  if rootNode is None:\n",
        "    return\n",
        "\n",
        "  print(rootNode.data)\n",
        "  preorder(rootNode.leftchild)\n",
        "  preorder(rootNode.rightchild)\n"
      ],
      "metadata": {
        "id": "jz9IOLBgeryX"
      },
      "execution_count": 6,
      "outputs": []
    },
    {
      "cell_type": "code",
      "source": [
        "beverage = TreeNode('beverage')\n",
        "hot = TreeNode('hot')\n",
        "cold = TreeNode('cold')\n",
        "tea = TreeNode('tea')\n",
        "coffee = TreeNode('coffee')"
      ],
      "metadata": {
        "id": "SfH5G9ybe6eo"
      },
      "execution_count": 7,
      "outputs": []
    },
    {
      "cell_type": "code",
      "source": [
        "beverage.leftchild=hot\n",
        "beverage.rightchild=cold\n",
        "hot.leftchild=tea\n",
        "hot.rightchild=coffee"
      ],
      "metadata": {
        "id": "qNUPbbCcfLqy"
      },
      "execution_count": 10,
      "outputs": []
    },
    {
      "cell_type": "code",
      "source": [
        "preorder(beverage)"
      ],
      "metadata": {
        "colab": {
          "base_uri": "https://localhost:8080/"
        },
        "id": "hTAPgu_IfUwC",
        "outputId": "17703d04-0dbb-42d7-f81b-fd10fa1bc0cc"
      },
      "execution_count": 11,
      "outputs": [
        {
          "output_type": "stream",
          "name": "stdout",
          "text": [
            "beverage\n",
            "hot\n",
            "tea\n",
            "coffee\n",
            "cold\n"
          ]
        }
      ]
    },
    {
      "cell_type": "code",
      "source": [],
      "metadata": {
        "id": "1MQt_5qVfXxx"
      },
      "execution_count": null,
      "outputs": []
    }
  ]
}