{
  "nbformat": 4,
  "nbformat_minor": 0,
  "metadata": {
    "colab": {
      "provenance": [],
      "authorship_tag": "ABX9TyO87UflEVjjnALlLzb/f6rf",
      "include_colab_link": true
    },
    "kernelspec": {
      "name": "python3",
      "display_name": "Python 3"
    },
    "language_info": {
      "name": "python"
    }
  },
  "cells": [
    {
      "cell_type": "markdown",
      "metadata": {
        "id": "view-in-github",
        "colab_type": "text"
      },
      "source": [
        "<a href=\"https://colab.research.google.com/github/bharaniakella/ABC_dsa/blob/main/permutations_II.ipynb\" target=\"_parent\"><img src=\"https://colab.research.google.com/assets/colab-badge.svg\" alt=\"Open In Colab\"/></a>"
      ]
    },
    {
      "cell_type": "code",
      "source": [
        "class Solution:\n",
        "    def permuteUnique(self, nums: List[int]) -> List[List[int]]:\n",
        "        n=len(nums)\n",
        "        res=[]\n",
        "\n",
        "        def helper(nums,index):\n",
        "            if index==n-1:\n",
        "                if(nums[:] not in res):\n",
        "                    res.append(nums[:])\n",
        "                    return\n",
        "\n",
        "            for j in range(index,n):\n",
        "                nums[j],nums[index]=nums[index],nums[j]\n",
        "                helper(nums,index+1)\n",
        "                nums[j],nums[index]=nums[index],nums[j]\n",
        "\n",
        "        helper(nums,0)\n",
        "        return res\n",
        "\n",
        "\n",
        ""
      ],
      "metadata": {
        "id": "LN_tM4R8oDN_"
      },
      "execution_count": null,
      "outputs": []
    }
  ]
}