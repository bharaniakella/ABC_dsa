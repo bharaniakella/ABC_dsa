{
  "nbformat": 4,
  "nbformat_minor": 0,
  "metadata": {
    "colab": {
      "provenance": [],
      "authorship_tag": "ABX9TyNFE4J1IjMCJe5TW5g3QUlG",
      "include_colab_link": true
    },
    "kernelspec": {
      "name": "python3",
      "display_name": "Python 3"
    },
    "language_info": {
      "name": "python"
    }
  },
  "cells": [
    {
      "cell_type": "markdown",
      "metadata": {
        "id": "view-in-github",
        "colab_type": "text"
      },
      "source": [
        "<a href=\"https://colab.research.google.com/github/bharaniakella/ABC_dsa/blob/main/inorder_traversal.ipynb\" target=\"_parent\"><img src=\"https://colab.research.google.com/assets/colab-badge.svg\" alt=\"Open In Colab\"/></a>"
      ]
    },
    {
      "cell_type": "code",
      "execution_count": 1,
      "metadata": {
        "id": "or6eEcbY_o52"
      },
      "outputs": [],
      "source": [
        "class TreeNode:\n",
        "  def __init__(self,data):\n",
        "    self.data=data\n",
        "    self.leftchild=None\n",
        "    self.rightchild=None\n",
        ""
      ]
    },
    {
      "cell_type": "code",
      "source": [
        "def inOrder(rootNode):\n",
        "  if rootNode is None:\n",
        "    return\n",
        "  inOrder(rootNode.leftchild)\n",
        "  print(rootNode.data)\n",
        "  inOrder(rootNode.rightchild)"
      ],
      "metadata": {
        "id": "_3s7I2KGAFRW"
      },
      "execution_count": 2,
      "outputs": []
    },
    {
      "cell_type": "code",
      "source": [
        "beverage=TreeNode('beverage')\n",
        "hot=TreeNode('hot')\n",
        "cold=TreeNode('cold')\n",
        "tea=TreeNode('tea')\n",
        "coffee=TreeNode('coffee')\n",
        "beer=TreeNode('beer')"
      ],
      "metadata": {
        "id": "Ss_xesYkAliI"
      },
      "execution_count": 3,
      "outputs": []
    },
    {
      "cell_type": "code",
      "source": [
        "beverage.leftchild=hot\n",
        "beverage.rightchild=cold\n",
        "\n",
        "hot.leftchild=tea\n",
        "hot.rightchild=coffee\n",
        "\n",
        "cold.leftchild=beer\n"
      ],
      "metadata": {
        "id": "wBytmv40A9Pb"
      },
      "execution_count": 4,
      "outputs": []
    },
    {
      "cell_type": "code",
      "source": [
        "inOrder(beverage)"
      ],
      "metadata": {
        "colab": {
          "base_uri": "https://localhost:8080/"
        },
        "id": "vwMcxAfuBK8J",
        "outputId": "c5fd1acd-5856-488e-bb6c-4d8b598a34b2"
      },
      "execution_count": 5,
      "outputs": [
        {
          "output_type": "stream",
          "name": "stdout",
          "text": [
            "tea\n",
            "hot\n",
            "coffee\n",
            "beverage\n",
            "beer\n",
            "cold\n"
          ]
        }
      ]
    },
    {
      "cell_type": "code",
      "source": [],
      "metadata": {
        "id": "I6qlte91BMoi"
      },
      "execution_count": null,
      "outputs": []
    }
  ]
}