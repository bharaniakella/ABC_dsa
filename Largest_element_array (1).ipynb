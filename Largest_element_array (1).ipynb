{
  "nbformat": 4,
  "nbformat_minor": 0,
  "metadata": {
    "colab": {
      "provenance": []
    },
    "kernelspec": {
      "name": "python3",
      "display_name": "Python 3"
    },
    "language_info": {
      "name": "python"
    }
  },
  "cells": [
    {
      "cell_type": "code",
      "execution_count": 3,
      "metadata": {
        "id": "b1sEFSVOb9r8"
      },
      "outputs": [],
      "source": [
        "import numpy as np\n",
        "arr=np.array([30,50,10,40,20])"
      ]
    },
    {
      "cell_type": "code",
      "source": [
        "def largest(arr):\n",
        "  max_element=0\n",
        "  for i in range(len(arr)):\n",
        "    if(arr[i]>arr[max_element]):\n",
        "      max_element=i\n",
        "  return arr[max_element]\n"
      ],
      "metadata": {
        "id": "5J4yX4sscNkF"
      },
      "execution_count": 4,
      "outputs": []
    },
    {
      "cell_type": "code",
      "source": [
        "largest(arr)"
      ],
      "metadata": {
        "id": "oO6Bv3wbcorK",
        "outputId": "bcf2d690-ab33-4402-95ea-c848aa89b268",
        "colab": {
          "base_uri": "https://localhost:8080/"
        }
      },
      "execution_count": 5,
      "outputs": [
        {
          "output_type": "execute_result",
          "data": {
            "text/plain": [
              "50"
            ]
          },
          "metadata": {},
          "execution_count": 5
        }
      ]
    },
    {
      "cell_type": "code",
      "source": [],
      "metadata": {
        "id": "BHVSQeurcpic"
      },
      "execution_count": null,
      "outputs": []
    }
  ]
}