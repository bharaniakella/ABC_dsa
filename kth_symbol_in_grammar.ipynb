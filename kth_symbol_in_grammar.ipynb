{
  "nbformat": 4,
  "nbformat_minor": 0,
  "metadata": {
    "colab": {
      "provenance": [],
      "authorship_tag": "ABX9TyPGdzf0v0U6UfFYGzV81Pkr",
      "include_colab_link": true
    },
    "kernelspec": {
      "name": "python3",
      "display_name": "Python 3"
    },
    "language_info": {
      "name": "python"
    }
  },
  "cells": [
    {
      "cell_type": "markdown",
      "metadata": {
        "id": "view-in-github",
        "colab_type": "text"
      },
      "source": [
        "<a href=\"https://colab.research.google.com/github/bharaniakella/ABC_dsa/blob/main/kth_symbol_in_grammar.ipynb\" target=\"_parent\"><img src=\"https://colab.research.google.com/assets/colab-badge.svg\" alt=\"Open In Colab\"/></a>"
      ]
    },
    {
      "cell_type": "code",
      "execution_count": null,
      "metadata": {
        "id": "1Pk0EigqtQph"
      },
      "outputs": [],
      "source": [
        "class Solution:\n",
        "    def kthGrammar(self, n: int, k: int) -> int:\n",
        "        if(n==1):\n",
        "            return 0\n",
        "\n",
        "        tot_len=2**(n-1)\n",
        "        half=tot_len/2\n",
        "\n",
        "        if(k<=half):\n",
        "            return self.kthGrammar(n-1,k)\n",
        "        else:\n",
        "\n",
        "            return int(not(self.kthGrammar(n-1,k-half)))"
      ]
    }
  ]
}