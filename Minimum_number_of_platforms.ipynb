{
  "nbformat": 4,
  "nbformat_minor": 0,
  "metadata": {
    "colab": {
      "provenance": [],
      "authorship_tag": "ABX9TyObtjPKbPXRt+MrlqolNYeN",
      "include_colab_link": true
    },
    "kernelspec": {
      "name": "python3",
      "display_name": "Python 3"
    },
    "language_info": {
      "name": "python"
    }
  },
  "cells": [
    {
      "cell_type": "markdown",
      "metadata": {
        "id": "view-in-github",
        "colab_type": "text"
      },
      "source": [
        "<a href=\"https://colab.research.google.com/github/bharaniakella/ABC_dsa/blob/main/Minimum_number_of_platforms.ipynb\" target=\"_parent\"><img src=\"https://colab.research.google.com/assets/colab-badge.svg\" alt=\"Open In Colab\"/></a>"
      ]
    },
    {
      "cell_type": "code",
      "source": [
        "import numpy as np\n",
        "arr = [\"9:00\", \"9:40\", \"9:50\", \"11:00\", \"15:00\", \"18:00\"]\n",
        "dep = [\"9:10\", \"12:00\", \"11:20\", \"11:30\", \"19:00\", \"20:00\"]\n",
        "\n",
        "arr = [int(s.replace(\":\", \"\")) for s in arr]\n",
        "dep = [int(s.replace(\":\", \"\")) for s in dep]\n",
        "\n",
        "times=[0]*2400\n",
        "for i in range(len(arr)):\n",
        "  times[arr[i]]=times[arr[i]]+1\n",
        "  times[dep[i]]=times[dep[i]]-1\n",
        "\n",
        "\n",
        "\n",
        "plat_arr=[0]*2400\n",
        "plat_arr[0]=times[0]\n",
        "for i in range(len(times)):\n",
        "  plat_arr[i]=plat_arr[i-1]+times[i]\n",
        "\n",
        "np.max(plat_arr)"
      ],
      "metadata": {
        "colab": {
          "base_uri": "https://localhost:8080/"
        },
        "id": "TrVizE7iZZis",
        "outputId": "44de0579-9131-4a18-8f43-60becd92d0f4"
      },
      "execution_count": 48,
      "outputs": [
        {
          "output_type": "execute_result",
          "data": {
            "text/plain": [
              "3"
            ]
          },
          "metadata": {},
          "execution_count": 48
        }
      ]
    },
    {
      "cell_type": "code",
      "source": [],
      "metadata": {
        "id": "TXKnHisjbaMq"
      },
      "execution_count": null,
      "outputs": []
    }
  ]
}