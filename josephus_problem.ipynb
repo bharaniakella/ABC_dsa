{
  "nbformat": 4,
  "nbformat_minor": 0,
  "metadata": {
    "colab": {
      "provenance": [],
      "authorship_tag": "ABX9TyNpSHJ6qspzSb2G8HsvuF+g",
      "include_colab_link": true
    },
    "kernelspec": {
      "name": "python3",
      "display_name": "Python 3"
    },
    "language_info": {
      "name": "python"
    }
  },
  "cells": [
    {
      "cell_type": "markdown",
      "metadata": {
        "id": "view-in-github",
        "colab_type": "text"
      },
      "source": [
        "<a href=\"https://colab.research.google.com/github/bharaniakella/ABC_dsa/blob/main/josephus_problem.ipynb\" target=\"_parent\"><img src=\"https://colab.research.google.com/assets/colab-badge.svg\" alt=\"Open In Colab\"/></a>"
      ]
    },
    {
      "cell_type": "code",
      "execution_count": null,
      "metadata": {
        "id": "CfY6PwAUcZRv"
      },
      "outputs": [],
      "source": [
        "class Solution:\n",
        "    def findTheWinner(self, n: int, k: int) -> int:\n",
        "        arr=[i+1 for i in range(n)]\n",
        "\n",
        "        def helper(arr,start_index):\n",
        "            if(len(arr)==1):\n",
        "                return arr[0]\n",
        "\n",
        "            remove_idx=(start_index + (k-1))%len(arr)\n",
        "            del arr[remove_idx]\n",
        "\n",
        "            return helper(arr,remove_idx)\n",
        "\n",
        "\n",
        "        return helper(arr,0)\n",
        "\n",
        ""
      ]
    }
  ]
}