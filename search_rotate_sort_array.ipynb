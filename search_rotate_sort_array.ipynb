{
  "nbformat": 4,
  "nbformat_minor": 0,
  "metadata": {
    "colab": {
      "provenance": [],
      "authorship_tag": "ABX9TyPBOGwrbA97K5Zf10Nfx5M7",
      "include_colab_link": true
    },
    "kernelspec": {
      "name": "python3",
      "display_name": "Python 3"
    },
    "language_info": {
      "name": "python"
    }
  },
  "cells": [
    {
      "cell_type": "markdown",
      "metadata": {
        "id": "view-in-github",
        "colab_type": "text"
      },
      "source": [
        "<a href=\"https://colab.research.google.com/github/bharaniakella/ABC_dsa/blob/main/search_rotate_sort_array.ipynb\" target=\"_parent\"><img src=\"https://colab.research.google.com/assets/colab-badge.svg\" alt=\"Open In Colab\"/></a>"
      ]
    },
    {
      "cell_type": "code",
      "execution_count": null,
      "metadata": {
        "id": "tuw9Vy15Y2PW"
      },
      "outputs": [],
      "source": [
        "class Solution:\n",
        "    def search(self, nums: List[int], target: int) -> int:\n",
        "        low=0\n",
        "        high=len(nums)-1\n",
        "        while(low<=high):\n",
        "            mid=low+(high-low)//2\n",
        "            if(nums[mid]==target):\n",
        "                return mid\n",
        "            if(nums[low]<=nums[mid]):\n",
        "                if(nums[low]<=target<=nums[mid]):\n",
        "                    high=mid-1\n",
        "                else:\n",
        "                    low=mid+1\n",
        "            else:\n",
        "                if(nums[mid]<=nums[high]):\n",
        "                    if(nums[mid]<=target<=nums[high]):\n",
        "                        low=mid+1\n",
        "                    else:\n",
        "                        high=mid-1\n",
        "        return -1\n",
        "\n",
        ""
      ]
    }
  ]
}