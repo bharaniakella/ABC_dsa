{
  "nbformat": 4,
  "nbformat_minor": 0,
  "metadata": {
    "colab": {
      "provenance": [],
      "authorship_tag": "ABX9TyM/uYHCnHBWYaJUFD6mOsxd",
      "include_colab_link": true
    },
    "kernelspec": {
      "name": "python3",
      "display_name": "Python 3"
    },
    "language_info": {
      "name": "python"
    }
  },
  "cells": [
    {
      "cell_type": "markdown",
      "metadata": {
        "id": "view-in-github",
        "colab_type": "text"
      },
      "source": [
        "<a href=\"https://colab.research.google.com/github/bharaniakella/ABC_dsa/blob/main/search_node_binary_tree.ipynb\" target=\"_parent\"><img src=\"https://colab.research.google.com/assets/colab-badge.svg\" alt=\"Open In Colab\"/></a>"
      ]
    },
    {
      "cell_type": "code",
      "execution_count": 1,
      "metadata": {
        "id": "OFhbbpYdIp6a"
      },
      "outputs": [],
      "source": [
        "class TreeNode:\n",
        "  def __init__(self,data):\n",
        "    self.data=data\n",
        "    self.leftchild=None\n",
        "    self.rightchild=None\n",
        ""
      ]
    },
    {
      "cell_type": "code",
      "source": [
        "from queue import Queue\n",
        "def searchNode(rootNode,key):\n",
        "  if TreeNode is None:\n",
        "    return \"root node empty\"\n",
        "\n",
        "  my_q=Queue()\n",
        "  my_q.put(rootNode)\n",
        "  while(not my_q.empty()):\n",
        "      node=my_q.get()\n",
        "      if(node.data==key):\n",
        "        return \"success\"\n",
        "\n",
        "      if(node.leftchild):\n",
        "        my_q.put(node.leftchild)\n",
        "      if(node.rightchild):\n",
        "        my_q.put(node.rightchild)\n",
        "\n",
        "  return \"failure\"\n"
      ],
      "metadata": {
        "id": "g2wm3Vf9KHua"
      },
      "execution_count": 3,
      "outputs": []
    },
    {
      "cell_type": "code",
      "source": [
        "beverage=TreeNode('beverage')\n",
        "hot=TreeNode('hot')\n",
        "cold=TreeNode('cold')\n",
        "tea=TreeNode('tea')\n",
        "coffee=TreeNode('coffee')\n",
        "beer=TreeNode('beer')\n",
        "pepsi=TreeNode('pepsi')"
      ],
      "metadata": {
        "id": "_045gFQoL_Td"
      },
      "execution_count": 4,
      "outputs": []
    },
    {
      "cell_type": "code",
      "source": [
        "beverage.leftchild=hot\n",
        "beverage.rightchild=cold\n",
        "\n",
        "hot.leftchild=tea\n",
        "hot.rightchild=coffee\n",
        "\n",
        "cold.leftchild=beer\n"
      ],
      "metadata": {
        "id": "CXhn9UqYMHSd"
      },
      "execution_count": 5,
      "outputs": []
    },
    {
      "cell_type": "code",
      "source": [
        "searchNode(beverage,'beer')"
      ],
      "metadata": {
        "colab": {
          "base_uri": "https://localhost:8080/",
          "height": 36
        },
        "id": "HVSVAaCeMI1l",
        "outputId": "c6e0a648-c944-44bb-f64b-e4aac0022d95"
      },
      "execution_count": 10,
      "outputs": [
        {
          "output_type": "execute_result",
          "data": {
            "text/plain": [
              "'success'"
            ],
            "application/vnd.google.colaboratory.intrinsic+json": {
              "type": "string"
            }
          },
          "metadata": {},
          "execution_count": 10
        }
      ]
    },
    {
      "cell_type": "code",
      "source": [],
      "metadata": {
        "id": "u3yed7N-MODo"
      },
      "execution_count": null,
      "outputs": []
    }
  ]
}