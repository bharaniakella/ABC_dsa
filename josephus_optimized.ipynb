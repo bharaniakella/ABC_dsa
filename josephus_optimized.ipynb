{
  "nbformat": 4,
  "nbformat_minor": 0,
  "metadata": {
    "colab": {
      "provenance": [],
      "authorship_tag": "ABX9TyOp8PSH9k4+8jtto+uD5lEV",
      "include_colab_link": true
    },
    "kernelspec": {
      "name": "python3",
      "display_name": "Python 3"
    },
    "language_info": {
      "name": "python"
    }
  },
  "cells": [
    {
      "cell_type": "markdown",
      "metadata": {
        "id": "view-in-github",
        "colab_type": "text"
      },
      "source": [
        "<a href=\"https://colab.research.google.com/github/bharaniakella/ABC_dsa/blob/main/josephus_optimized.ipynb\" target=\"_parent\"><img src=\"https://colab.research.google.com/assets/colab-badge.svg\" alt=\"Open In Colab\"/></a>"
      ]
    },
    {
      "cell_type": "code",
      "execution_count": null,
      "metadata": {
        "id": "babCosk9j32i"
      },
      "outputs": [],
      "source": [
        "class Solution:\n",
        "    def findTheWinner(self, n: int, k: int) -> int:\n",
        "\n",
        "        def helper(n):\n",
        "            if(n==1):\n",
        "                return 0\n",
        "            else:\n",
        "                return (helper(n-1)+k)%n\n",
        "\n",
        "        return helper(n)+1\n",
        "\n",
        ""
      ]
    }
  ]
}