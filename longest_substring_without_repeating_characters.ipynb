{
  "nbformat": 4,
  "nbformat_minor": 0,
  "metadata": {
    "colab": {
      "provenance": [],
      "authorship_tag": "ABX9TyPL2bowIv/0LcQrnhBtqL0/",
      "include_colab_link": true
    },
    "kernelspec": {
      "name": "python3",
      "display_name": "Python 3"
    },
    "language_info": {
      "name": "python"
    }
  },
  "cells": [
    {
      "cell_type": "markdown",
      "metadata": {
        "id": "view-in-github",
        "colab_type": "text"
      },
      "source": [
        "<a href=\"https://colab.research.google.com/github/bharaniakella/ABC_dsa/blob/main/longest_substring_without_repeating_characters.ipynb\" target=\"_parent\"><img src=\"https://colab.research.google.com/assets/colab-badge.svg\" alt=\"Open In Colab\"/></a>"
      ]
    },
    {
      "cell_type": "code",
      "execution_count": null,
      "metadata": {
        "id": "BfqNl9Ak-BaZ"
      },
      "outputs": [],
      "source": [
        "class Solution:\n",
        "    def lengthOfLongestSubstring(self, s: str) -> int:\n",
        "        l=0\n",
        "        resu=0\n",
        "        charset=set()\n",
        "        for r in range(len(s)):\n",
        "            while(s[r] in charset):\n",
        "                charset.remove(s[l])\n",
        "                l=l+1\n",
        "            charset.add(s[r])\n",
        "            resu=max(resu,r-l+1)\n",
        "        return resu\n",
        ""
      ]
    }
  ]
}