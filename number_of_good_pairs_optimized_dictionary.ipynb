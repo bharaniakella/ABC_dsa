{
  "nbformat": 4,
  "nbformat_minor": 0,
  "metadata": {
    "colab": {
      "provenance": [],
      "authorship_tag": "ABX9TyPgYm8i0hQqjQQXdHB9/L9P",
      "include_colab_link": true
    },
    "kernelspec": {
      "name": "python3",
      "display_name": "Python 3"
    },
    "language_info": {
      "name": "python"
    }
  },
  "cells": [
    {
      "cell_type": "markdown",
      "metadata": {
        "id": "view-in-github",
        "colab_type": "text"
      },
      "source": [
        "<a href=\"https://colab.research.google.com/github/bharaniakella/ABC_dsa/blob/main/number_of_good_pairs_optimized_dictionary.ipynb\" target=\"_parent\"><img src=\"https://colab.research.google.com/assets/colab-badge.svg\" alt=\"Open In Colab\"/></a>"
      ]
    },
    {
      "cell_type": "code",
      "execution_count": null,
      "metadata": {
        "id": "nJTGOwdkX0m0"
      },
      "outputs": [],
      "source": [
        "class Solution:\n",
        "    def numIdenticalPairs(self, nums: List[int]) -> int:\n",
        "        mydict={}\n",
        "        for i in range(len(nums)):\n",
        "            mydict[nums[i]]=mydict.get(nums[i],0)+1\n",
        "\n",
        "        sum=0\n",
        "        for i in mydict.keys():\n",
        "            if(mydict[i]>1):\n",
        "                sum=sum+math.comb(mydict[i],2)\n",
        "        return sum\n",
        "\n",
        "\n",
        "\n",
        ""
      ]
    }
  ]
}