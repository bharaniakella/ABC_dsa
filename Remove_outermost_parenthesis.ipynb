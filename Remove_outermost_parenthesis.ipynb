{
  "nbformat": 4,
  "nbformat_minor": 0,
  "metadata": {
    "colab": {
      "provenance": [],
      "authorship_tag": "ABX9TyPJbUap9Dz6WiOfwfNa6mit",
      "include_colab_link": true
    },
    "kernelspec": {
      "name": "python3",
      "display_name": "Python 3"
    },
    "language_info": {
      "name": "python"
    }
  },
  "cells": [
    {
      "cell_type": "markdown",
      "metadata": {
        "id": "view-in-github",
        "colab_type": "text"
      },
      "source": [
        "<a href=\"https://colab.research.google.com/github/bharaniakella/ABC_dsa/blob/main/Remove_outermost_parenthesis.ipynb\" target=\"_parent\"><img src=\"https://colab.research.google.com/assets/colab-badge.svg\" alt=\"Open In Colab\"/></a>"
      ]
    },
    {
      "cell_type": "code",
      "execution_count": 1,
      "metadata": {
        "id": "r569jrAie_Fi"
      },
      "outputs": [],
      "source": [
        "class Solution:\n",
        "    def removeOuterParentheses(self, s: str) -> str:\n",
        "        mystring=\"\"\n",
        "        mycount=0\n",
        "        for i in s:\n",
        "            if(i==\"(\"):\n",
        "                mycount=mycount+1\n",
        "                if(mycount>=2):\n",
        "                    mystring=mystring+i\n",
        "            else:\n",
        "                mycount=mycount-1\n",
        "                if(mycount>=1):\n",
        "                    mystring=mystring+i\n",
        "\n",
        "        return mystring\n",
        ""
      ]
    },
    {
      "cell_type": "code",
      "source": [],
      "metadata": {
        "id": "5y2rY4Kzg-4c"
      },
      "execution_count": null,
      "outputs": []
    }
  ]
}