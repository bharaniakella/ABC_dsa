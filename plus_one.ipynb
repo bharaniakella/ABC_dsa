{
  "nbformat": 4,
  "nbformat_minor": 0,
  "metadata": {
    "colab": {
      "provenance": [],
      "authorship_tag": "ABX9TyOIwKLwQ+xyEPECfqPo3bJl",
      "include_colab_link": true
    },
    "kernelspec": {
      "name": "python3",
      "display_name": "Python 3"
    },
    "language_info": {
      "name": "python"
    }
  },
  "cells": [
    {
      "cell_type": "markdown",
      "metadata": {
        "id": "view-in-github",
        "colab_type": "text"
      },
      "source": [
        "<a href=\"https://colab.research.google.com/github/bharaniakella/ABC_dsa/blob/main/plus_one.ipynb\" target=\"_parent\"><img src=\"https://colab.research.google.com/assets/colab-badge.svg\" alt=\"Open In Colab\"/></a>"
      ]
    },
    {
      "cell_type": "code",
      "execution_count": null,
      "metadata": {
        "id": "fRYM6e-_ab01"
      },
      "outputs": [],
      "source": [
        "class Solution:\n",
        "    def plusOne(self, digits: List[int]) -> List[int]:\n",
        "        n=len(digits)\n",
        "        if(digits[n-1]!=9):\n",
        "            digits[n-1]+=1\n",
        "            return digits\n",
        "\n",
        "        count_9=0\n",
        "        for i in range(n-1,-1,-1):\n",
        "            if(digits[i]==9):\n",
        "                count_9=count_9+1\n",
        "\n",
        "        if(count_9==len(digits)):\n",
        "            digits=[0]*(len(digits)+1)\n",
        "            digits[0]=digits[0]+1\n",
        "            return digits\n",
        "\n",
        "        for i in range(n-1,-1,-1):\n",
        "            if(digits[i]==9):\n",
        "                digits[i]=0\n",
        "            else:\n",
        "                digits[i]+=1\n",
        "                break\n",
        "        return digits\n",
        ""
      ]
    }
  ]
}