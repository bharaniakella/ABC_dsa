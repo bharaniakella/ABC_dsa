{
  "nbformat": 4,
  "nbformat_minor": 0,
  "metadata": {
    "colab": {
      "provenance": [],
      "authorship_tag": "ABX9TyOM60ORIf83+fYtnoRR6AGf",
      "include_colab_link": true
    },
    "kernelspec": {
      "name": "python3",
      "display_name": "Python 3"
    },
    "language_info": {
      "name": "python"
    }
  },
  "cells": [
    {
      "cell_type": "markdown",
      "metadata": {
        "id": "view-in-github",
        "colab_type": "text"
      },
      "source": [
        "<a href=\"https://colab.research.google.com/github/bharaniakella/ABC_dsa/blob/main/postOrder_traversal.ipynb\" target=\"_parent\"><img src=\"https://colab.research.google.com/assets/colab-badge.svg\" alt=\"Open In Colab\"/></a>"
      ]
    },
    {
      "cell_type": "code",
      "execution_count": 1,
      "metadata": {
        "id": "4jsoeq-jCCdF"
      },
      "outputs": [],
      "source": [
        "class TreeNode:\n",
        "  def __init__(self,data):\n",
        "    self.data=data\n",
        "    self.leftchild=None\n",
        "    self.rightchild=None"
      ]
    },
    {
      "cell_type": "code",
      "source": [
        "def postOrder(rootNode):\n",
        "  if rootNode is None:\n",
        "    return\n",
        "\n",
        "  postOrder(rootNode.leftchild)\n",
        "  postOrder(rootNode.rightchild)\n",
        "  print(rootNode.data)"
      ],
      "metadata": {
        "id": "menfv5BaCVlm"
      },
      "execution_count": 2,
      "outputs": []
    },
    {
      "cell_type": "code",
      "source": [
        "beverage=TreeNode('beverage')\n",
        "hot=TreeNode('hot')\n",
        "cold=TreeNode('cold')\n",
        "tea=TreeNode('tea')\n",
        "coffee=TreeNode('coffee')\n",
        "beer=TreeNode('beer')"
      ],
      "metadata": {
        "id": "m0VBeZxsC4yM"
      },
      "execution_count": 3,
      "outputs": []
    },
    {
      "cell_type": "code",
      "source": [
        "beverage.leftchild=hot\n",
        "beverage.rightchild=cold\n",
        "\n",
        "hot.leftchild=tea\n",
        "hot.rightchild=coffee\n",
        "\n",
        "cold.leftchild=beer\n"
      ],
      "metadata": {
        "id": "3mdtPRMQC6o6"
      },
      "execution_count": 4,
      "outputs": []
    },
    {
      "cell_type": "code",
      "source": [
        "postOrder(beverage)"
      ],
      "metadata": {
        "colab": {
          "base_uri": "https://localhost:8080/"
        },
        "id": "U7ckIGKVC8NM",
        "outputId": "c46c801a-56f1-4cd9-fcd0-845ee53711c4"
      },
      "execution_count": 5,
      "outputs": [
        {
          "output_type": "stream",
          "name": "stdout",
          "text": [
            "tea\n",
            "coffee\n",
            "hot\n",
            "beer\n",
            "cold\n",
            "beverage\n"
          ]
        }
      ]
    },
    {
      "cell_type": "code",
      "source": [],
      "metadata": {
        "id": "AtIobp_ZC_CO"
      },
      "execution_count": null,
      "outputs": []
    }
  ]
}