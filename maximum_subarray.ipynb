{
  "nbformat": 4,
  "nbformat_minor": 0,
  "metadata": {
    "colab": {
      "provenance": [],
      "authorship_tag": "ABX9TyOzLCSX7FluAFYrRvcdqxQp",
      "include_colab_link": true
    },
    "kernelspec": {
      "name": "python3",
      "display_name": "Python 3"
    },
    "language_info": {
      "name": "python"
    }
  },
  "cells": [
    {
      "cell_type": "markdown",
      "metadata": {
        "id": "view-in-github",
        "colab_type": "text"
      },
      "source": [
        "<a href=\"https://colab.research.google.com/github/bharaniakella/ABC_dsa/blob/main/maximum_subarray.ipynb\" target=\"_parent\"><img src=\"https://colab.research.google.com/assets/colab-badge.svg\" alt=\"Open In Colab\"/></a>"
      ]
    },
    {
      "cell_type": "code",
      "execution_count": null,
      "metadata": {
        "id": "av5ReqlduT_M"
      },
      "outputs": [],
      "source": [
        "class Solution:\n",
        "    def maxSubArray(self, nums: List[int]) -> int:\n",
        "        curr_sum=0\n",
        "        max_sum=nums[0]\n",
        "\n",
        "        for i in range(len(nums)):\n",
        "            if(curr_sum<0):\n",
        "                curr_sum=0\n",
        "            curr_sum=curr_sum+nums[i]\n",
        "            max_sum=max(curr_sum,max_sum)\n",
        "\n",
        "        return max_sum\n",
        ""
      ]
    }
  ]
}