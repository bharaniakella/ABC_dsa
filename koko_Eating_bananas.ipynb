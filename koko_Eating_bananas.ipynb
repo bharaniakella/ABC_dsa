{
  "nbformat": 4,
  "nbformat_minor": 0,
  "metadata": {
    "colab": {
      "provenance": [],
      "authorship_tag": "ABX9TyNXyCqPm2edbQpQXuqwLoeG",
      "include_colab_link": true
    },
    "kernelspec": {
      "name": "python3",
      "display_name": "Python 3"
    },
    "language_info": {
      "name": "python"
    }
  },
  "cells": [
    {
      "cell_type": "markdown",
      "metadata": {
        "id": "view-in-github",
        "colab_type": "text"
      },
      "source": [
        "<a href=\"https://colab.research.google.com/github/bharaniakella/ABC_dsa/blob/main/koko_Eating_bananas.ipynb\" target=\"_parent\"><img src=\"https://colab.research.google.com/assets/colab-badge.svg\" alt=\"Open In Colab\"/></a>"
      ]
    },
    {
      "cell_type": "code",
      "execution_count": 1,
      "metadata": {
        "colab": {
          "base_uri": "https://localhost:8080/"
        },
        "id": "hc8t4Dd8JYYv",
        "outputId": "c694de66-6cbe-419a-c2a6-fcb975cae84e"
      },
      "outputs": [
        {
          "output_type": "execute_result",
          "data": {
            "text/plain": [
              "30"
            ]
          },
          "metadata": {},
          "execution_count": 1
        }
      ],
      "source": [
        "class Solution:\n",
        "    def minEatingSpeed(self, piles: List[int], h: int) -> int:\n",
        "\n",
        "        def total_hours(piles,num_banana):\n",
        "            hours=0\n",
        "            for i in range(len(piles)):\n",
        "                hours+=ceil(piles[i]/num_banana)\n",
        "            return hours\n",
        "\n",
        "        low=1\n",
        "        high=max(piles)\n",
        "        ans=0\n",
        "        while(low<=high):\n",
        "            mid=low+(high-low)//2\n",
        "            best_hours=total_hours(piles,mid)\n",
        "            if(best_hours<=h):\n",
        "                ans=mid\n",
        "                high=mid-1\n",
        "            else:\n",
        "                low=mid+1\n",
        "\n",
        "        return ans"
      ]
    }
  ]
}