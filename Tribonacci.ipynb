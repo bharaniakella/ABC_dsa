{
  "nbformat": 4,
  "nbformat_minor": 0,
  "metadata": {
    "colab": {
      "provenance": [],
      "authorship_tag": "ABX9TyPtkj7zadwyGtUW8C9bOXdR",
      "include_colab_link": true
    },
    "kernelspec": {
      "name": "python3",
      "display_name": "Python 3"
    },
    "language_info": {
      "name": "python"
    }
  },
  "cells": [
    {
      "cell_type": "markdown",
      "metadata": {
        "id": "view-in-github",
        "colab_type": "text"
      },
      "source": [
        "<a href=\"https://colab.research.google.com/github/bharaniakella/ABC_dsa/blob/main/Tribonacci.ipynb\" target=\"_parent\"><img src=\"https://colab.research.google.com/assets/colab-badge.svg\" alt=\"Open In Colab\"/></a>"
      ]
    },
    {
      "cell_type": "code",
      "execution_count": null,
      "metadata": {
        "id": "hSpG8mMIScUz"
      },
      "outputs": [],
      "source": [
        "class Solution:\n",
        "    def tribonacci(self, n: int) -> int:\n",
        "        tab=[0]*(n+1)\n",
        "        if(n==0 or n==1):\n",
        "            return n\n",
        "        if(n==2):\n",
        "            return 1\n",
        "        tab[1]=tab[2]=1\n",
        "        count=2\n",
        "        while(count<n):\n",
        "            tab[count+1]=tab[count]+tab[count-1]+tab[count-2]\n",
        "            count=count+1\n",
        "\n",
        "        return tab[-1]\n",
        ""
      ]
    }
  ]
}