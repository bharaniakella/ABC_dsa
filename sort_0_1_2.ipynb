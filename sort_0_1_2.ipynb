{
  "nbformat": 4,
  "nbformat_minor": 0,
  "metadata": {
    "colab": {
      "provenance": [],
      "authorship_tag": "ABX9TyN8xc30hFMFLi+/HRAjTi4F",
      "include_colab_link": true
    },
    "kernelspec": {
      "name": "python3",
      "display_name": "Python 3"
    },
    "language_info": {
      "name": "python"
    }
  },
  "cells": [
    {
      "cell_type": "markdown",
      "metadata": {
        "id": "view-in-github",
        "colab_type": "text"
      },
      "source": [
        "<a href=\"https://colab.research.google.com/github/bharaniakella/ABC_dsa/blob/main/sort_0_1_2.ipynb\" target=\"_parent\"><img src=\"https://colab.research.google.com/assets/colab-badge.svg\" alt=\"Open In Colab\"/></a>"
      ]
    },
    {
      "cell_type": "code",
      "execution_count": 2,
      "metadata": {
        "colab": {
          "base_uri": "https://localhost:8080/"
        },
        "id": "xWaYDpzurWlU",
        "outputId": "206fb245-3aff-465e-d2a4-1b4f00718245"
      },
      "outputs": [
        {
          "output_type": "stream",
          "name": "stdout",
          "text": [
            "hey\n"
          ]
        }
      ],
      "source": [
        "class Solution:\n",
        "    def sortColors(self, nums: List[int]) -> None:\n",
        "        \"\"\"\n",
        "        Do not return anything, modify nums in-place instead.\n",
        "        \"\"\"\n",
        "        count_0,count_1,count_2,count_total=0,0,0,0\n",
        "\n",
        "        for i in range(len(nums)):\n",
        "            if(nums[i]==0):\n",
        "                count_0+=1\n",
        "            elif(nums[i]==1):\n",
        "                count_1+=1\n",
        "            else:\n",
        "                count_2+=1\n",
        "\n",
        "            count_total+=nums[i]\n",
        "\n",
        "        for i in range(0,count_0):\n",
        "            nums[i]=0\n",
        "\n",
        "        for i in range(count_0,count_0+count_1):\n",
        "            nums[i]=1\n",
        "\n",
        "        for i in range(count_0+count_1,len(nums)):\n",
        "            nums[i]=2\n",
        "\n"
      ]
    }
  ]
}