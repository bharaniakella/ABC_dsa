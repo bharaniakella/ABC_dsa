{
  "nbformat": 4,
  "nbformat_minor": 0,
  "metadata": {
    "colab": {
      "provenance": [],
      "authorship_tag": "ABX9TyM3bResxgQyv7T6UAGwnjUB",
      "include_colab_link": true
    },
    "kernelspec": {
      "name": "python3",
      "display_name": "Python 3"
    },
    "language_info": {
      "name": "python"
    }
  },
  "cells": [
    {
      "cell_type": "markdown",
      "metadata": {
        "id": "view-in-github",
        "colab_type": "text"
      },
      "source": [
        "<a href=\"https://colab.research.google.com/github/bharaniakella/ABC_dsa/blob/main/Rearrange_array_elements_by_sign.ipynb\" target=\"_parent\"><img src=\"https://colab.research.google.com/assets/colab-badge.svg\" alt=\"Open In Colab\"/></a>"
      ]
    },
    {
      "cell_type": "code",
      "execution_count": null,
      "metadata": {
        "id": "H_afeBPo0xSU"
      },
      "outputs": [],
      "source": [
        "class Solution:\n",
        "    def rearrangeArray(self, nums: List[int]) -> List[int]:\n",
        "        arr=[0]*len(nums)\n",
        "        even_idx=0\n",
        "        odd_idx=1\n",
        "        for i in range(len(nums)):\n",
        "            if(nums[i]<0):\n",
        "                arr[odd_idx]=nums[i]\n",
        "                odd_idx=odd_idx+2\n",
        "            else:\n",
        "                arr[even_idx]=nums[i]\n",
        "                even_idx=even_idx+2\n",
        "\n",
        "\n",
        "        return arr\n",
        ""
      ]
    }
  ]
}