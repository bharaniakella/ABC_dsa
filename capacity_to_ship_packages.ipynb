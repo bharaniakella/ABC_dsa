{
  "nbformat": 4,
  "nbformat_minor": 0,
  "metadata": {
    "colab": {
      "provenance": [],
      "authorship_tag": "ABX9TyOd/6QueKatcnLupCzxVB7o",
      "include_colab_link": true
    },
    "kernelspec": {
      "name": "python3",
      "display_name": "Python 3"
    },
    "language_info": {
      "name": "python"
    }
  },
  "cells": [
    {
      "cell_type": "markdown",
      "metadata": {
        "id": "view-in-github",
        "colab_type": "text"
      },
      "source": [
        "<a href=\"https://colab.research.google.com/github/bharaniakella/ABC_dsa/blob/main/capacity_to_ship_packages.ipynb\" target=\"_parent\"><img src=\"https://colab.research.google.com/assets/colab-badge.svg\" alt=\"Open In Colab\"/></a>"
      ]
    },
    {
      "cell_type": "code",
      "execution_count": null,
      "metadata": {
        "id": "ehZH79kbHwen"
      },
      "outputs": [],
      "source": [
        "class Solution:\n",
        "    def shipWithinDays(self, weights: List[int], days: int) -> int:\n",
        "        sum=0\n",
        "\n",
        "\n",
        "        for i in range(len(weights)):\n",
        "            sum=sum+weights[i]\n",
        "\n",
        "        low=max(weights)\n",
        "        high=sum\n",
        "\n",
        "        def find_n_days(weights,cap):\n",
        "            load=0\n",
        "            day=1\n",
        "            for i in range(len(weights)):\n",
        "                if(load+weights[i]>cap):\n",
        "                    day=day+1\n",
        "                    load=weights[i]\n",
        "\n",
        "                else:\n",
        "                    load=load+weights[i]\n",
        "\n",
        "            return day\n",
        "\n",
        "        ans=0\n",
        "        while(low<=high):\n",
        "            mid=low+(high-low)//2\n",
        "            n_days=find_n_days(weights,mid)\n",
        "            if(n_days<=days):\n",
        "                ans=mid\n",
        "                high=mid-1\n",
        "            else:\n",
        "                low=mid+1\n",
        "\n",
        "        return ans\n",
        "\n",
        "\n",
        "\n",
        ""
      ]
    }
  ]
}